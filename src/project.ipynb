{
 "cells": [
  {
   "cell_type": "markdown",
   "metadata": {},
   "source": [
    "# \n",
    "- **Full Name** : Fatemeh Karimi Barikarasfi\n",
    "- **Student Code** : 610301060\n"
   ]
  },
  {
   "cell_type": "markdown",
   "metadata": {},
   "source": [
    "Use CNN pretrained models for Parkinson’s Disease detection using DaTscan images. Dataset is collected from [PPMI](https://www.ppmi-info.org/)."
   ]
  },
  {
   "cell_type": "code",
   "execution_count": 5,
   "metadata": {
    "colab": {
     "base_uri": "https://localhost:8080/"
    },
    "id": "2-uQKFwiVLmD",
    "outputId": "861206a0-d017-432d-980b-c5aa2d258265"
   },
   "outputs": [
    {
     "name": "stdout",
     "output_type": "stream",
     "text": [
      "Looking in indexes: https://pypi.org/simple, https://us-python.pkg.dev/colab-wheels/public/simple/\n",
      "Requirement already satisfied: pydicom in /usr/local/lib/python3.10/dist-packages (2.4.1)\n"
     ]
    }
   ],
   "source": [
    "!pip install pydicom"
   ]
  },
  {
   "cell_type": "markdown",
   "metadata": {
    "id": "tyKv5NAUTQ9B"
   },
   "source": [
    "## Importing Needed Libraries"
   ]
  },
  {
   "cell_type": "code",
   "execution_count": 7,
   "metadata": {
    "id": "9a0QQ-OF8MvE"
   },
   "outputs": [],
   "source": [
    "import warnings\n",
    "\n",
    "import os\n",
    "import glob\n",
    "import math\n",
    "import cv2 as cv2\n",
    "import numpy as np\n",
    "import pandas as pd\n",
    "import pydicom as dcm\n",
    "import tensorflow as tf\n",
    "import matplotlib.pyplot as plt\n",
    "from sklearn.metrics import classification_report, confusion_matrix, ConfusionMatrixDisplay\n",
    "\n",
    "warnings.filterwarnings(\"ignore\", category=UserWarning)"
   ]
  },
  {
   "cell_type": "markdown",
   "metadata": {
    "id": "42MeldnxTYGh"
   },
   "source": [
    "## Loading and Spiliting Data"
   ]
  },
  {
   "cell_type": "code",
   "execution_count": 24,
   "metadata": {
    "id": "uo1mToPg8PB-"
   },
   "outputs": [],
   "source": [
    "def generator(subset=0):\n",
    "    df = pd.read_csv(\"./drive/MyDrive/final_6_22_2023.csv\")\n",
    "\n",
    "    df = pd.concat([\n",
    "        df[(df[\"Group\"] == \"PD\") & (df[\"Sex\"] == \"M\")].sort_values(\"Acq Date\", ascending=False).head(216),\n",
    "        df[(df[\"Group\"] == \"PD\") & (df[\"Sex\"] == \"F\")].sort_values(\"Acq Date\", ascending=False).head(216),\n",
    "        df[(df[\"Group\"] == \"Control\") & (df[\"Sex\"] == \"M\")].sort_values(\"Acq Date\", ascending=False).head(106),\n",
    "        df[(df[\"Group\"] == \"Control\") & (df[\"Sex\"] == \"F\")].sort_values(\"Acq Date\", ascending=False).head(106)\n",
    "    ])\n",
    "\n",
    "    if subset == 0:\n",
    "        df = pd.concat([\n",
    "            df[(df[\"Group\"] == \"PD\") & (df[\"Sex\"] == \"M\")].head(math.floor(216 * 0.8)),\n",
    "            df[(df[\"Group\"] == \"PD\") & (df[\"Sex\"] == \"F\")].head(math.floor(216 * 0.8)),\n",
    "            df[(df[\"Group\"] == \"Control\") & (df[\"Sex\"] == \"M\")].head(math.floor(106 * 0.8)),\n",
    "            df[(df[\"Group\"] == \"Control\") & (df[\"Sex\"] == \"F\")].head(math.floor(106 * 0.8))\n",
    "        ])\n",
    "\n",
    "    if subset == 1:\n",
    "        df = pd.concat([\n",
    "            df[(df[\"Group\"] == \"PD\") & (df[\"Sex\"] == \"M\")].tail(math.ceil(216 * 0.2)),\n",
    "            df[(df[\"Group\"] == \"PD\") & (df[\"Sex\"] == \"F\")].tail(math.ceil(216 * 0.2)),\n",
    "            df[(df[\"Group\"] == \"Control\") & (df[\"Sex\"] == \"M\")].tail(math.ceil(106 * 0.2)),\n",
    "            df[(df[\"Group\"] == \"Control\") & (df[\"Sex\"] == \"F\")].tail(math.ceil(106 * 0.2))\n",
    "        ])\n",
    "\n",
    "    for index, record in df.iterrows():\n",
    "        label = record[\"Group\"]\n",
    "        subject = record[\"Subject\"]\n",
    "        dataId = record[\"Image Data ID\"]\n",
    "        file = dcm.dcmread(glob.glob(f\"./drive/MyDrive/PPMI/{subject}/Reconstructed_DaTSCAN/*/{dataId}/*.dcm\")[0])\n",
    "\n",
    "        image = file.pixel_array[41]\n",
    "        image = ((image - np.min(image)) / (np.max(image) - np.min(image)) * 255).astype(np.uint8)\n",
    "        image = cv2.cvtColor(image, cv2.COLOR_GRAY2RGB)\n",
    "        image = cv2.resize(image, (224 , 224))\n",
    "\n",
    "        yield (\n",
    "            tf.convert_to_tensor(image),\n",
    "            tf.constant([1, 0] if label == \"Control\" else [0, 1])\n",
    "        )\n",
    "\n",
    "trainset = tf.data.Dataset.from_generator(generator, args=(0,), output_signature=(\n",
    "    tf.TensorSpec(shape=(224, 224, 3), dtype=tf.uint8),\n",
    "    tf.TensorSpec(shape=(2), dtype=tf.uint8))\n",
    ").shuffle(buffer_size=100, seed=310).batch(100)\n",
    "\n",
    "testset = tf.data.Dataset.from_generator(generator, args=(1,), output_signature=(\n",
    "    tf.TensorSpec(shape=(224, 224, 3), dtype=tf.uint8),\n",
    "    tf.TensorSpec(shape=(2), dtype=tf.uint8))\n",
    ").batch(1)"
   ]
  },
  {
   "cell_type": "markdown",
   "metadata": {
    "id": "dTfgOJb9TgC8"
   },
   "source": [
    "## Models"
   ]
  },
  {
   "cell_type": "markdown",
   "metadata": {
    "id": "eXV7-60UTh3U"
   },
   "source": [
    "### VGG16"
   ]
  },
  {
   "cell_type": "code",
   "execution_count": 86,
   "metadata": {
    "id": "Qur-ah3P0qKx"
   },
   "outputs": [],
   "source": [
    "vgg16_model = tf.keras.applications.vgg16.VGG16(weights=\"imagenet\", include_top=False, input_shape=(224, 224, 3))\n",
    "\n",
    "for layer in vgg16_model.layers:\n",
    "    layer.trainable = False\n",
    "\n",
    "input = tf.keras.layers.Input(shape=(224, 224, 3))\n",
    "\n",
    "fusion = tf.keras.layers.Concatenate()([\n",
    "     tf.keras.layers.GlobalAveragePooling2D()(vgg16_model(input)),\n",
    "\n",
    "])\n",
    "x = tf.keras.layers.Flatten()(fusion)\n",
    "x = tf.keras.layers.Dense(512, activation=\"relu\")(x)\n",
    "x = tf.keras.layers.Dropout(0.5)(x)\n",
    "x = tf.keras.layers.Dense(128, activation=\"relu\")(x)\n",
    "x = tf.keras.layers.Dropout(0.5)(x)\n",
    "\n",
    "output = tf.keras.layers.Dense(2, activation=\"softmax\")(x)\n",
    "\n",
    "VGGmodel = tf.keras.models.Model(inputs=input, outputs=output)\n",
    "\n",
    "VGGmodel.compile(\n",
    "    optimizer=tf.keras.optimizers.Adam(learning_rate=0.0001),\n",
    "    loss='categorical_crossentropy',\n",
    "    metrics=['accuracy']\n",
    ")"
   ]
  },
  {
   "cell_type": "code",
   "execution_count": 87,
   "metadata": {
    "colab": {
     "base_uri": "https://localhost:8080/"
    },
    "id": "HSUMisMe-J6o",
    "outputId": "b98610d3-2fd5-4846-f754-cee51fb3b386"
   },
   "outputs": [
    {
     "name": "stdout",
     "output_type": "stream",
     "text": [
      "Epoch 1/50\n"
     ]
    },
    {
     "name": "stdout",
     "output_type": "stream",
     "text": [
      "      6/Unknown - 10s 1s/step - loss: 2.7613 - accuracy: 0.4434"
     ]
    },
    {
     "name": "stdout",
     "output_type": "stream",
     "text": [
      "6/6 [==============================] - 12s 1s/step - loss: 2.7613 - accuracy: 0.4434 - val_loss: 0.7504 - val_accuracy: 0.6667\n",
      "Epoch 2/50\n"
     ]
    },
    {
     "name": "stdout",
     "output_type": "stream",
     "text": [
      "6/6 [==============================] - ETA: 0s - loss: 1.7960 - accuracy: 0.5879"
     ]
    },
    {
     "name": "stdout",
     "output_type": "stream",
     "text": [
      "6/6 [==============================] - 11s 2s/step - loss: 1.7960 - accuracy: 0.5879 - val_loss: 0.8434 - val_accuracy: 0.6667\n",
      "Epoch 3/50\n"
     ]
    },
    {
     "name": "stdout",
     "output_type": "stream",
     "text": [
      "6/6 [==============================] - ETA: 0s - loss: 1.5404 - accuracy: 0.6152"
     ]
    },
    {
     "name": "stdout",
     "output_type": "stream",
     "text": [
      "6/6 [==============================] - 11s 2s/step - loss: 1.5404 - accuracy: 0.6152 - val_loss: 0.6922 - val_accuracy: 0.6591\n",
      "Epoch 4/50\n"
     ]
    },
    {
     "name": "stdout",
     "output_type": "stream",
     "text": [
      "6/6 [==============================] - ETA: 0s - loss: 1.4764 - accuracy: 0.6230"
     ]
    },
    {
     "name": "stdout",
     "output_type": "stream",
     "text": [
      "6/6 [==============================] - 11s 2s/step - loss: 1.4764 - accuracy: 0.6230 - val_loss: 0.5388 - val_accuracy: 0.6591\n",
      "Epoch 5/50\n"
     ]
    },
    {
     "name": "stdout",
     "output_type": "stream",
     "text": [
      "6/6 [==============================] - ETA: 0s - loss: 1.1681 - accuracy: 0.6797"
     ]
    },
    {
     "name": "stdout",
     "output_type": "stream",
     "text": [
      "6/6 [==============================] - 11s 2s/step - loss: 1.1681 - accuracy: 0.6797 - val_loss: 0.4035 - val_accuracy: 0.7576\n",
      "Epoch 6/50\n"
     ]
    },
    {
     "name": "stdout",
     "output_type": "stream",
     "text": [
      "6/6 [==============================] - ETA: 0s - loss: 1.0837 - accuracy: 0.6523"
     ]
    },
    {
     "name": "stdout",
     "output_type": "stream",
     "text": [
      "6/6 [==============================] - 10s 1s/step - loss: 1.0837 - accuracy: 0.6523 - val_loss: 0.3417 - val_accuracy: 0.8333\n",
      "Epoch 7/50\n"
     ]
    },
    {
     "name": "stdout",
     "output_type": "stream",
     "text": [
      "6/6 [==============================] - ETA: 0s - loss: 1.0270 - accuracy: 0.6523"
     ]
    },
    {
     "name": "stdout",
     "output_type": "stream",
     "text": [
      "6/6 [==============================] - 11s 2s/step - loss: 1.0270 - accuracy: 0.6523 - val_loss: 0.3126 - val_accuracy: 0.8561\n",
      "Epoch 8/50\n"
     ]
    },
    {
     "name": "stdout",
     "output_type": "stream",
     "text": [
      "6/6 [==============================] - ETA: 0s - loss: 0.9121 - accuracy: 0.6660"
     ]
    },
    {
     "name": "stdout",
     "output_type": "stream",
     "text": [
      "6/6 [==============================] - 11s 2s/step - loss: 0.9121 - accuracy: 0.6660 - val_loss: 0.3039 - val_accuracy: 0.8712\n",
      "Epoch 9/50\n"
     ]
    },
    {
     "name": "stdout",
     "output_type": "stream",
     "text": [
      "6/6 [==============================] - ETA: 0s - loss: 0.8941 - accuracy: 0.6816"
     ]
    },
    {
     "name": "stdout",
     "output_type": "stream",
     "text": [
      "6/6 [==============================] - 13s 2s/step - loss: 0.8941 - accuracy: 0.6816 - val_loss: 0.2923 - val_accuracy: 0.8864\n",
      "Epoch 10/50\n"
     ]
    },
    {
     "name": "stdout",
     "output_type": "stream",
     "text": [
      "6/6 [==============================] - ETA: 0s - loss: 0.8221 - accuracy: 0.6738"
     ]
    },
    {
     "name": "stdout",
     "output_type": "stream",
     "text": [
      "6/6 [==============================] - 13s 2s/step - loss: 0.8221 - accuracy: 0.6738 - val_loss: 0.2748 - val_accuracy: 0.9242\n",
      "Epoch 11/50\n"
     ]
    },
    {
     "name": "stdout",
     "output_type": "stream",
     "text": [
      "6/6 [==============================] - ETA: 0s - loss: 0.7784 - accuracy: 0.7129"
     ]
    },
    {
     "name": "stdout",
     "output_type": "stream",
     "text": [
      "6/6 [==============================] - 14s 2s/step - loss: 0.7784 - accuracy: 0.7129 - val_loss: 0.2629 - val_accuracy: 0.9470\n",
      "Epoch 12/50\n"
     ]
    },
    {
     "name": "stdout",
     "output_type": "stream",
     "text": [
      "6/6 [==============================] - ETA: 0s - loss: 0.6751 - accuracy: 0.7461"
     ]
    },
    {
     "name": "stdout",
     "output_type": "stream",
     "text": [
      "6/6 [==============================] - 15s 2s/step - loss: 0.6751 - accuracy: 0.7461 - val_loss: 0.2566 - val_accuracy: 0.9470\n",
      "Epoch 13/50\n"
     ]
    },
    {
     "name": "stdout",
     "output_type": "stream",
     "text": [
      "6/6 [==============================] - ETA: 0s - loss: 0.7057 - accuracy: 0.7402"
     ]
    },
    {
     "name": "stdout",
     "output_type": "stream",
     "text": [
      "6/6 [==============================] - 15s 2s/step - loss: 0.7057 - accuracy: 0.7402 - val_loss: 0.2509 - val_accuracy: 0.9470\n",
      "Epoch 14/50\n"
     ]
    },
    {
     "name": "stdout",
     "output_type": "stream",
     "text": [
      "6/6 [==============================] - ETA: 0s - loss: 0.7271 - accuracy: 0.7285"
     ]
    },
    {
     "name": "stdout",
     "output_type": "stream",
     "text": [
      "6/6 [==============================] - 12s 2s/step - loss: 0.7271 - accuracy: 0.7285 - val_loss: 0.2459 - val_accuracy: 0.9394\n",
      "Epoch 15/50\n"
     ]
    },
    {
     "name": "stdout",
     "output_type": "stream",
     "text": [
      "6/6 [==============================] - ETA: 0s - loss: 0.6371 - accuracy: 0.7461"
     ]
    },
    {
     "name": "stdout",
     "output_type": "stream",
     "text": [
      "6/6 [==============================] - 11s 1s/step - loss: 0.6371 - accuracy: 0.7461 - val_loss: 0.2405 - val_accuracy: 0.9394\n",
      "Epoch 16/50\n"
     ]
    },
    {
     "name": "stdout",
     "output_type": "stream",
     "text": [
      "6/6 [==============================] - ETA: 0s - loss: 0.6298 - accuracy: 0.7480"
     ]
    },
    {
     "name": "stdout",
     "output_type": "stream",
     "text": [
      "6/6 [==============================] - 15s 2s/step - loss: 0.6298 - accuracy: 0.7480 - val_loss: 0.2387 - val_accuracy: 0.9470\n",
      "Epoch 17/50\n"
     ]
    },
    {
     "name": "stdout",
     "output_type": "stream",
     "text": [
      "6/6 [==============================] - ETA: 0s - loss: 0.5557 - accuracy: 0.7656"
     ]
    },
    {
     "name": "stdout",
     "output_type": "stream",
     "text": [
      "6/6 [==============================] - 14s 2s/step - loss: 0.5557 - accuracy: 0.7656 - val_loss: 0.2393 - val_accuracy: 0.9470\n",
      "Epoch 18/50\n"
     ]
    },
    {
     "name": "stdout",
     "output_type": "stream",
     "text": [
      "6/6 [==============================] - ETA: 0s - loss: 0.5696 - accuracy: 0.7734"
     ]
    },
    {
     "name": "stdout",
     "output_type": "stream",
     "text": [
      "6/6 [==============================] - 11s 2s/step - loss: 0.5696 - accuracy: 0.7734 - val_loss: 0.2388 - val_accuracy: 0.9470\n",
      "Epoch 19/50\n"
     ]
    },
    {
     "name": "stdout",
     "output_type": "stream",
     "text": [
      "6/6 [==============================] - ETA: 0s - loss: 0.5498 - accuracy: 0.7832"
     ]
    },
    {
     "name": "stdout",
     "output_type": "stream",
     "text": [
      "6/6 [==============================] - 11s 2s/step - loss: 0.5498 - accuracy: 0.7832 - val_loss: 0.2380 - val_accuracy: 0.9470\n",
      "Epoch 20/50\n"
     ]
    },
    {
     "name": "stdout",
     "output_type": "stream",
     "text": [
      "6/6 [==============================] - ETA: 0s - loss: 0.5474 - accuracy: 0.7695"
     ]
    },
    {
     "name": "stdout",
     "output_type": "stream",
     "text": [
      "6/6 [==============================] - 13s 2s/step - loss: 0.5474 - accuracy: 0.7695 - val_loss: 0.2379 - val_accuracy: 0.9470\n",
      "Epoch 21/50\n"
     ]
    },
    {
     "name": "stdout",
     "output_type": "stream",
     "text": [
      "6/6 [==============================] - ETA: 0s - loss: 0.5095 - accuracy: 0.7676"
     ]
    },
    {
     "name": "stdout",
     "output_type": "stream",
     "text": [
      "6/6 [==============================] - 13s 2s/step - loss: 0.5095 - accuracy: 0.7676 - val_loss: 0.2365 - val_accuracy: 0.9318\n",
      "Epoch 22/50\n"
     ]
    },
    {
     "name": "stdout",
     "output_type": "stream",
     "text": [
      "6/6 [==============================] - ETA: 0s - loss: 0.4747 - accuracy: 0.7852"
     ]
    },
    {
     "name": "stdout",
     "output_type": "stream",
     "text": [
      "6/6 [==============================] - 11s 2s/step - loss: 0.4747 - accuracy: 0.7852 - val_loss: 0.2341 - val_accuracy: 0.9394\n",
      "Epoch 23/50\n"
     ]
    },
    {
     "name": "stdout",
     "output_type": "stream",
     "text": [
      "6/6 [==============================] - ETA: 0s - loss: 0.4863 - accuracy: 0.7949"
     ]
    },
    {
     "name": "stdout",
     "output_type": "stream",
     "text": [
      "6/6 [==============================] - 11s 2s/step - loss: 0.4863 - accuracy: 0.7949 - val_loss: 0.2295 - val_accuracy: 0.9394\n",
      "Epoch 24/50\n"
     ]
    },
    {
     "name": "stdout",
     "output_type": "stream",
     "text": [
      "6/6 [==============================] - ETA: 0s - loss: 0.4463 - accuracy: 0.8086"
     ]
    },
    {
     "name": "stdout",
     "output_type": "stream",
     "text": [
      "6/6 [==============================] - 11s 2s/step - loss: 0.4463 - accuracy: 0.8086 - val_loss: 0.2283 - val_accuracy: 0.9394\n",
      "Epoch 25/50\n"
     ]
    },
    {
     "name": "stdout",
     "output_type": "stream",
     "text": [
      "6/6 [==============================] - ETA: 0s - loss: 0.3969 - accuracy: 0.8281"
     ]
    },
    {
     "name": "stdout",
     "output_type": "stream",
     "text": [
      "6/6 [==============================] - 11s 2s/step - loss: 0.3969 - accuracy: 0.8281 - val_loss: 0.2268 - val_accuracy: 0.9394\n",
      "Epoch 26/50\n"
     ]
    },
    {
     "name": "stdout",
     "output_type": "stream",
     "text": [
      "6/6 [==============================] - ETA: 0s - loss: 0.4023 - accuracy: 0.8535"
     ]
    },
    {
     "name": "stdout",
     "output_type": "stream",
     "text": [
      "6/6 [==============================] - 10s 1s/step - loss: 0.4023 - accuracy: 0.8535 - val_loss: 0.2237 - val_accuracy: 0.9394\n",
      "Epoch 27/50\n"
     ]
    },
    {
     "name": "stdout",
     "output_type": "stream",
     "text": [
      "6/6 [==============================] - ETA: 0s - loss: 0.4706 - accuracy: 0.7988"
     ]
    },
    {
     "name": "stdout",
     "output_type": "stream",
     "text": [
      "6/6 [==============================] - 11s 2s/step - loss: 0.4706 - accuracy: 0.7988 - val_loss: 0.2205 - val_accuracy: 0.9394\n",
      "Epoch 28/50\n"
     ]
    },
    {
     "name": "stdout",
     "output_type": "stream",
     "text": [
      "6/6 [==============================] - ETA: 0s - loss: 0.4470 - accuracy: 0.8320"
     ]
    },
    {
     "name": "stdout",
     "output_type": "stream",
     "text": [
      "6/6 [==============================] - 11s 2s/step - loss: 0.4470 - accuracy: 0.8320 - val_loss: 0.2187 - val_accuracy: 0.9470\n",
      "Epoch 29/50\n"
     ]
    },
    {
     "name": "stdout",
     "output_type": "stream",
     "text": [
      "6/6 [==============================] - ETA: 0s - loss: 0.4656 - accuracy: 0.8262"
     ]
    },
    {
     "name": "stdout",
     "output_type": "stream",
     "text": [
      "6/6 [==============================] - 11s 2s/step - loss: 0.4656 - accuracy: 0.8262 - val_loss: 0.2162 - val_accuracy: 0.9470\n",
      "Epoch 30/50\n"
     ]
    },
    {
     "name": "stdout",
     "output_type": "stream",
     "text": [
      "6/6 [==============================] - ETA: 0s - loss: 0.4243 - accuracy: 0.8359"
     ]
    },
    {
     "name": "stdout",
     "output_type": "stream",
     "text": [
      "6/6 [==============================] - 11s 2s/step - loss: 0.4243 - accuracy: 0.8359 - val_loss: 0.2180 - val_accuracy: 0.9394\n",
      "Epoch 31/50\n"
     ]
    },
    {
     "name": "stdout",
     "output_type": "stream",
     "text": [
      "6/6 [==============================] - ETA: 0s - loss: 0.3848 - accuracy: 0.8418"
     ]
    },
    {
     "name": "stdout",
     "output_type": "stream",
     "text": [
      "6/6 [==============================] - 11s 2s/step - loss: 0.3848 - accuracy: 0.8418 - val_loss: 0.2226 - val_accuracy: 0.9470\n",
      "Epoch 32/50\n"
     ]
    },
    {
     "name": "stdout",
     "output_type": "stream",
     "text": [
      "6/6 [==============================] - ETA: 0s - loss: 0.3813 - accuracy: 0.8496"
     ]
    },
    {
     "name": "stdout",
     "output_type": "stream",
     "text": [
      "6/6 [==============================] - 11s 2s/step - loss: 0.3813 - accuracy: 0.8496 - val_loss: 0.2252 - val_accuracy: 0.9470\n",
      "Epoch 33/50\n"
     ]
    },
    {
     "name": "stdout",
     "output_type": "stream",
     "text": [
      "6/6 [==============================] - ETA: 0s - loss: 0.3472 - accuracy: 0.8496"
     ]
    },
    {
     "name": "stdout",
     "output_type": "stream",
     "text": [
      "6/6 [==============================] - 11s 2s/step - loss: 0.3472 - accuracy: 0.8496 - val_loss: 0.2235 - val_accuracy: 0.9318\n",
      "Epoch 34/50\n"
     ]
    },
    {
     "name": "stdout",
     "output_type": "stream",
     "text": [
      "6/6 [==============================] - ETA: 0s - loss: 0.3734 - accuracy: 0.8262"
     ]
    },
    {
     "name": "stdout",
     "output_type": "stream",
     "text": [
      "6/6 [==============================] - 11s 2s/step - loss: 0.3734 - accuracy: 0.8262 - val_loss: 0.2183 - val_accuracy: 0.9394\n",
      "Epoch 35/50\n"
     ]
    },
    {
     "name": "stdout",
     "output_type": "stream",
     "text": [
      "6/6 [==============================] - ETA: 0s - loss: 0.3387 - accuracy: 0.8535"
     ]
    },
    {
     "name": "stdout",
     "output_type": "stream",
     "text": [
      "6/6 [==============================] - 10s 1s/step - loss: 0.3387 - accuracy: 0.8535 - val_loss: 0.2150 - val_accuracy: 0.9394\n",
      "Epoch 36/50\n"
     ]
    },
    {
     "name": "stdout",
     "output_type": "stream",
     "text": [
      "6/6 [==============================] - ETA: 0s - loss: 0.3429 - accuracy: 0.8535"
     ]
    },
    {
     "name": "stdout",
     "output_type": "stream",
     "text": [
      "6/6 [==============================] - 12s 2s/step - loss: 0.3429 - accuracy: 0.8535 - val_loss: 0.2142 - val_accuracy: 0.9394\n",
      "Epoch 37/50\n"
     ]
    },
    {
     "name": "stdout",
     "output_type": "stream",
     "text": [
      "6/6 [==============================] - ETA: 0s - loss: 0.3500 - accuracy: 0.8594"
     ]
    },
    {
     "name": "stdout",
     "output_type": "stream",
     "text": [
      "6/6 [==============================] - 13s 2s/step - loss: 0.3500 - accuracy: 0.8594 - val_loss: 0.2156 - val_accuracy: 0.9394\n",
      "Epoch 38/50\n"
     ]
    },
    {
     "name": "stdout",
     "output_type": "stream",
     "text": [
      "6/6 [==============================] - ETA: 0s - loss: 0.3512 - accuracy: 0.8496"
     ]
    },
    {
     "name": "stdout",
     "output_type": "stream",
     "text": [
      "6/6 [==============================] - 11s 1s/step - loss: 0.3512 - accuracy: 0.8496 - val_loss: 0.2138 - val_accuracy: 0.9394\n",
      "Epoch 39/50\n"
     ]
    },
    {
     "name": "stdout",
     "output_type": "stream",
     "text": [
      "6/6 [==============================] - ETA: 0s - loss: 0.3473 - accuracy: 0.8594"
     ]
    },
    {
     "name": "stdout",
     "output_type": "stream",
     "text": [
      "6/6 [==============================] - 11s 2s/step - loss: 0.3473 - accuracy: 0.8594 - val_loss: 0.2122 - val_accuracy: 0.9394\n",
      "Epoch 40/50\n"
     ]
    },
    {
     "name": "stdout",
     "output_type": "stream",
     "text": [
      "6/6 [==============================] - ETA: 0s - loss: 0.3487 - accuracy: 0.8691"
     ]
    },
    {
     "name": "stdout",
     "output_type": "stream",
     "text": [
      "6/6 [==============================] - 11s 2s/step - loss: 0.3487 - accuracy: 0.8691 - val_loss: 0.2124 - val_accuracy: 0.9394\n",
      "Epoch 41/50\n"
     ]
    },
    {
     "name": "stdout",
     "output_type": "stream",
     "text": [
      "6/6 [==============================] - ETA: 0s - loss: 0.3315 - accuracy: 0.8750"
     ]
    },
    {
     "name": "stdout",
     "output_type": "stream",
     "text": [
      "6/6 [==============================] - 11s 2s/step - loss: 0.3315 - accuracy: 0.8750 - val_loss: 0.2093 - val_accuracy: 0.9394\n",
      "Epoch 42/50\n"
     ]
    },
    {
     "name": "stdout",
     "output_type": "stream",
     "text": [
      "6/6 [==============================] - ETA: 0s - loss: 0.3065 - accuracy: 0.8770"
     ]
    },
    {
     "name": "stdout",
     "output_type": "stream",
     "text": [
      "6/6 [==============================] - 11s 2s/step - loss: 0.3065 - accuracy: 0.8770 - val_loss: 0.2035 - val_accuracy: 0.9394\n",
      "Epoch 43/50\n"
     ]
    },
    {
     "name": "stdout",
     "output_type": "stream",
     "text": [
      "6/6 [==============================] - ETA: 0s - loss: 0.3049 - accuracy: 0.8711"
     ]
    },
    {
     "name": "stdout",
     "output_type": "stream",
     "text": [
      "6/6 [==============================] - 11s 2s/step - loss: 0.3049 - accuracy: 0.8711 - val_loss: 0.1980 - val_accuracy: 0.9394\n",
      "Epoch 44/50\n"
     ]
    },
    {
     "name": "stdout",
     "output_type": "stream",
     "text": [
      "6/6 [==============================] - ETA: 0s - loss: 0.3080 - accuracy: 0.8828"
     ]
    },
    {
     "name": "stdout",
     "output_type": "stream",
     "text": [
      "6/6 [==============================] - 11s 2s/step - loss: 0.3080 - accuracy: 0.8828 - val_loss: 0.1960 - val_accuracy: 0.9394\n",
      "Epoch 45/50\n"
     ]
    },
    {
     "name": "stdout",
     "output_type": "stream",
     "text": [
      "6/6 [==============================] - ETA: 0s - loss: 0.2866 - accuracy: 0.8867"
     ]
    },
    {
     "name": "stdout",
     "output_type": "stream",
     "text": [
      "6/6 [==============================] - 10s 1s/step - loss: 0.2866 - accuracy: 0.8867 - val_loss: 0.1943 - val_accuracy: 0.9394\n",
      "Epoch 46/50\n"
     ]
    },
    {
     "name": "stdout",
     "output_type": "stream",
     "text": [
      "6/6 [==============================] - ETA: 0s - loss: 0.3313 - accuracy: 0.8535"
     ]
    },
    {
     "name": "stdout",
     "output_type": "stream",
     "text": [
      "6/6 [==============================] - 11s 2s/step - loss: 0.3313 - accuracy: 0.8535 - val_loss: 0.1927 - val_accuracy: 0.9394\n",
      "Epoch 47/50\n"
     ]
    },
    {
     "name": "stdout",
     "output_type": "stream",
     "text": [
      "6/6 [==============================] - ETA: 0s - loss: 0.2450 - accuracy: 0.9121"
     ]
    },
    {
     "name": "stdout",
     "output_type": "stream",
     "text": [
      "6/6 [==============================] - 11s 2s/step - loss: 0.2450 - accuracy: 0.9121 - val_loss: 0.1908 - val_accuracy: 0.9394\n",
      "Epoch 48/50\n"
     ]
    },
    {
     "name": "stdout",
     "output_type": "stream",
     "text": [
      "6/6 [==============================] - ETA: 0s - loss: 0.2660 - accuracy: 0.8887"
     ]
    },
    {
     "name": "stdout",
     "output_type": "stream",
     "text": [
      "6/6 [==============================] - 11s 2s/step - loss: 0.2660 - accuracy: 0.8887 - val_loss: 0.1885 - val_accuracy: 0.9394\n",
      "Epoch 49/50\n"
     ]
    },
    {
     "name": "stdout",
     "output_type": "stream",
     "text": [
      "6/6 [==============================] - ETA: 0s - loss: 0.2815 - accuracy: 0.8848"
     ]
    },
    {
     "name": "stdout",
     "output_type": "stream",
     "text": [
      "6/6 [==============================] - 11s 2s/step - loss: 0.2815 - accuracy: 0.8848 - val_loss: 0.1878 - val_accuracy: 0.9394\n",
      "Epoch 50/50\n"
     ]
    },
    {
     "name": "stdout",
     "output_type": "stream",
     "text": [
      "6/6 [==============================] - ETA: 0s - loss: 0.2618 - accuracy: 0.8984"
     ]
    },
    {
     "name": "stdout",
     "output_type": "stream",
     "text": [
      "6/6 [==============================] - 11s 2s/step - loss: 0.2618 - accuracy: 0.8984 - val_loss: 0.1866 - val_accuracy: 0.9394\n"
     ]
    }
   ],
   "source": [
    "hist = VGGmodel.fit(trainset, validation_data=testset, epochs = 50)"
   ]
  },
  {
   "cell_type": "code",
   "execution_count": 88,
   "metadata": {
    "colab": {
     "base_uri": "https://localhost:8080/",
     "height": 607
    },
    "id": "chEv-kHDZl1b",
    "outputId": "bd71295f-cafa-4494-91ff-f44d43d80465"
   },
   "outputs": [
    {
     "data": {
      "image/png": "[encoded data removed]",
      "text/plain": [
       "<Figure size 1400x700 with 1 Axes>"
      ]
     },
     "metadata": {},
     "output_type": "display_data"
    }
   ],
   "source": [
    "acc = hist.history['accuracy']\n",
    "val_acc = hist.history['val_accuracy']\n",
    "\n",
    "epochs = range(len(acc))\n",
    "plt.figure(figsize = (14, 7))\n",
    "plt.title('Accuracy')\n",
    "plt.plot(epochs, acc, 'r', label = 'Train Accuracy')\n",
    "plt.plot(epochs, val_acc, 'b', label = 'Test Accuracy')\n",
    "plt.legend(loc = 'upper left')\n",
    "\n",
    "plt.show()"
   ]
  },
  {
   "cell_type": "code",
   "execution_count": 89,
   "metadata": {
    "colab": {
     "base_uri": "https://localhost:8080/"
    },
    "id": "v_9IcpQ_aT1E",
    "outputId": "91844535-4cdf-4261-aa3d-87e57941cb43"
   },
   "outputs": [
    {
     "name": "stdout",
     "output_type": "stream",
     "text": [
      "     10/Unknown - 0s 19ms/step - loss: 0.1337 - accuracy: 1.0000"
     ]
    },
    {
     "name": "stdout",
     "output_type": "stream",
     "text": [
      "132/132 [==============================] - 2s 18ms/step - loss: 0.1866 - accuracy: 0.9394\n",
      "[0.18659339845180511, 0.939393937587738]\n"
     ]
    }
   ],
   "source": [
    "print(VGGmodel.evaluate(testset))"
   ]
  },
  {
   "cell_type": "code",
   "execution_count": 90,
   "metadata": {
    "colab": {
     "base_uri": "https://localhost:8080/"
    },
    "id": "K2aLicLlaVPU",
    "outputId": "d41878a5-236d-4710-cc9f-d07e0f0fc43a"
   },
   "outputs": [
    {
     "name": "stdout",
     "output_type": "stream",
     "text": [
      "5/5 [==============================] - 1s 134ms/step\n"
     ]
    },
    {
     "data": {
      "text/plain": [
       "<tf.Tensor: shape=(2, 2), dtype=int32, numpy=\n",
       "array([[40,  4],\n",
       "       [ 4, 84]], dtype=int32)>"
      ]
     },
     "execution_count": 90,
     "metadata": {},
     "output_type": "execute_result"
    }
   ],
   "source": [
    "testds = list(testset)\n",
    "\n",
    "y_true = [y.numpy().argmax(1)[0] for _, y in testds]\n",
    "y_pred1 = VGGmodel.predict(tf.stack([x[0] for x, _ in testds])).argmax(1)\n",
    "\n",
    "tf.math.confusion_matrix(labels=y_true, predictions=y_pred1)"
   ]
  },
  {
   "cell_type": "code",
   "execution_count": 91,
   "metadata": {
    "colab": {
     "base_uri": "https://localhost:8080/",
     "height": 449
    },
    "id": "_yLz0G34nTBH",
    "outputId": "5235df8d-5a6c-4ce8-fd8d-f5c3373c33cf"
   },
   "outputs": [
    {
     "data": {
      "image/png": "[encoded data removed]",
      "text/plain": [
       "<Figure size 640x480 with 2 Axes>"
      ]
     },
     "metadata": {},
     "output_type": "display_data"
    }
   ],
   "source": [
    "ConfusionMatrixDisplay(confusion_matrix(y_pred1, y_true), display_labels = ['No', 'Yes'], ).plot()\n",
    "plt.show()"
   ]
  },
  {
   "cell_type": "code",
   "execution_count": 92,
   "metadata": {
    "colab": {
     "base_uri": "https://localhost:8080/"
    },
    "id": "qrjE-CfvORdr",
    "outputId": "56bdf0fe-5f9f-45f3-b186-ba79451fa827"
   },
   "outputs": [
    {
     "name": "stdout",
     "output_type": "stream",
     "text": [
      "              precision    recall  f1-score   support\n",
      "\n",
      "           0       0.91      0.91      0.91        44\n",
      "           1       0.95      0.95      0.95        88\n",
      "\n",
      "    accuracy                           0.94       132\n",
      "   macro avg       0.93      0.93      0.93       132\n",
      "weighted avg       0.94      0.94      0.94       132\n",
      "\n"
     ]
    }
   ],
   "source": [
    "print(classification_report(y_pred1, y_true))"
   ]
  },
  {
   "cell_type": "markdown",
   "metadata": {
    "id": "Ws18P_9nT5oQ"
   },
   "source": [
    "### ResNet50\n"
   ]
  },
  {
   "cell_type": "code",
   "execution_count": 93,
   "metadata": {
    "id": "nYr2g3k2T-aI"
   },
   "outputs": [],
   "source": [
    "resnet50_model = tf.keras.applications.resnet50.ResNet50(weights=\"imagenet\", include_top=False, input_shape=(224, 224, 3))\n",
    "\n",
    "for layer in resnet50_model.layers:\n",
    "    layer.trainable = False\n",
    "\n",
    "input = tf.keras.layers.Input(shape=(224, 224, 3))\n",
    "\n",
    "fusion = tf.keras.layers.Concatenate()([\n",
    "     tf.keras.layers.GlobalAveragePooling2D()(resnet50_model(input)),\n",
    "])\n",
    "x = tf.keras.layers.Flatten()(fusion)\n",
    "x = tf.keras.layers.Dense(512, activation=\"relu\")(x)\n",
    "x = tf.keras.layers.Dropout(0.5)(x)\n",
    "x = tf.keras.layers.Dense(128, activation=\"relu\")(x)\n",
    "x = tf.keras.layers.Dropout(0.5)(x)\n",
    "\n",
    "output = tf.keras.layers.Dense(2, activation=\"softmax\")(x)\n",
    "\n",
    "ResNetmodel = tf.keras.models.Model(inputs=input, outputs=output)\n",
    "\n",
    "ResNetmodel.compile(\n",
    "    optimizer=tf.keras.optimizers.Adam(learning_rate=0.0001),\n",
    "    loss='categorical_crossentropy',\n",
    "    metrics=['accuracy']\n",
    ")"
   ]
  },
  {
   "cell_type": "code",
   "execution_count": 94,
   "metadata": {
    "colab": {
     "base_uri": "https://localhost:8080/"
    },
    "id": "wr1GnNTpVYqN",
    "outputId": "6e940187-2739-4bb7-896c-e23d50445cbf"
   },
   "outputs": [
    {
     "name": "stdout",
     "output_type": "stream",
     "text": [
      "Epoch 1/50\n"
     ]
    },
    {
     "name": "stdout",
     "output_type": "stream",
     "text": [
      "      5/Unknown - 12s 1s/step - loss: 2.1287 - accuracy: 0.6460"
     ]
    },
    {
     "name": "stdout",
     "output_type": "stream",
     "text": [
      "6/6 [==============================] - 15s 2s/step - loss: 2.1504 - accuracy: 0.6387 - val_loss: 1.0427 - val_accuracy: 0.6667\n",
      "Epoch 2/50\n"
     ]
    },
    {
     "name": "stdout",
     "output_type": "stream",
     "text": [
      "5/6 [========================>.....] - ETA: 1s - loss: 1.0090 - accuracy: 0.6660"
     ]
    },
    {
     "name": "stdout",
     "output_type": "stream",
     "text": [
      "6/6 [==============================] - 10s 1s/step - loss: 0.9990 - accuracy: 0.6680 - val_loss: 0.7146 - val_accuracy: 0.4924\n",
      "Epoch 3/50\n"
     ]
    },
    {
     "name": "stdout",
     "output_type": "stream",
     "text": [
      "5/6 [========================>.....] - ETA: 1s - loss: 0.9651 - accuracy: 0.5680"
     ]
    },
    {
     "name": "stdout",
     "output_type": "stream",
     "text": [
      "6/6 [==============================] - 11s 2s/step - loss: 0.9614 - accuracy: 0.5684 - val_loss: 0.9775 - val_accuracy: 0.3939\n",
      "Epoch 4/50\n"
     ]
    },
    {
     "name": "stdout",
     "output_type": "stream",
     "text": [
      "5/6 [========================>.....] - ETA: 1s - loss: 1.0733 - accuracy: 0.5140"
     ]
    },
    {
     "name": "stdout",
     "output_type": "stream",
     "text": [
      "6/6 [==============================] - 11s 2s/step - loss: 1.0672 - accuracy: 0.5156 - val_loss: 0.6939 - val_accuracy: 0.5000\n",
      "Epoch 5/50\n"
     ]
    },
    {
     "name": "stdout",
     "output_type": "stream",
     "text": [
      "5/6 [========================>.....] - ETA: 1s - loss: 0.9167 - accuracy: 0.5800"
     ]
    },
    {
     "name": "stdout",
     "output_type": "stream",
     "text": [
      "6/6 [==============================] - 9s 1s/step - loss: 0.9223 - accuracy: 0.5801 - val_loss: 0.4872 - val_accuracy: 0.7955\n",
      "Epoch 6/50\n"
     ]
    },
    {
     "name": "stdout",
     "output_type": "stream",
     "text": [
      "5/6 [========================>.....] - ETA: 1s - loss: 0.7251 - accuracy: 0.6840"
     ]
    },
    {
     "name": "stdout",
     "output_type": "stream",
     "text": [
      "6/6 [==============================] - 10s 1s/step - loss: 0.7223 - accuracy: 0.6836 - val_loss: 0.4715 - val_accuracy: 0.8030\n",
      "Epoch 7/50\n"
     ]
    },
    {
     "name": "stdout",
     "output_type": "stream",
     "text": [
      "5/6 [========================>.....] - ETA: 1s - loss: 0.6535 - accuracy: 0.6800"
     ]
    },
    {
     "name": "stdout",
     "output_type": "stream",
     "text": [
      "6/6 [==============================] - 10s 2s/step - loss: 0.6633 - accuracy: 0.6777 - val_loss: 0.4784 - val_accuracy: 0.8030\n",
      "Epoch 8/50\n"
     ]
    },
    {
     "name": "stdout",
     "output_type": "stream",
     "text": [
      "5/6 [========================>.....] - ETA: 1s - loss: 0.6091 - accuracy: 0.6680"
     ]
    },
    {
     "name": "stdout",
     "output_type": "stream",
     "text": [
      "6/6 [==============================] - 12s 2s/step - loss: 0.6109 - accuracy: 0.6641 - val_loss: 0.5098 - val_accuracy: 0.7424\n",
      "Epoch 9/50\n"
     ]
    },
    {
     "name": "stdout",
     "output_type": "stream",
     "text": [
      "5/6 [========================>.....] - ETA: 1s - loss: 0.6188 - accuracy: 0.6740"
     ]
    },
    {
     "name": "stdout",
     "output_type": "stream",
     "text": [
      "6/6 [==============================] - 10s 1s/step - loss: 0.6216 - accuracy: 0.6738 - val_loss: 0.4808 - val_accuracy: 0.7803\n",
      "Epoch 10/50\n"
     ]
    },
    {
     "name": "stdout",
     "output_type": "stream",
     "text": [
      "5/6 [========================>.....] - ETA: 1s - loss: 0.6060 - accuracy: 0.6940"
     ]
    },
    {
     "name": "stdout",
     "output_type": "stream",
     "text": [
      "6/6 [==============================] - 10s 1s/step - loss: 0.6087 - accuracy: 0.6914 - val_loss: 0.4541 - val_accuracy: 0.8182\n",
      "Epoch 11/50\n"
     ]
    },
    {
     "name": "stdout",
     "output_type": "stream",
     "text": [
      "5/6 [========================>.....] - ETA: 1s - loss: 0.5345 - accuracy: 0.7380"
     ]
    },
    {
     "name": "stdout",
     "output_type": "stream",
     "text": [
      "6/6 [==============================] - 13s 2s/step - loss: 0.5313 - accuracy: 0.7422 - val_loss: 0.4388 - val_accuracy: 0.8182\n",
      "Epoch 12/50\n"
     ]
    },
    {
     "name": "stdout",
     "output_type": "stream",
     "text": [
      "5/6 [========================>.....] - ETA: 1s - loss: 0.5645 - accuracy: 0.7260"
     ]
    },
    {
     "name": "stdout",
     "output_type": "stream",
     "text": [
      "6/6 [==============================] - 13s 2s/step - loss: 0.5795 - accuracy: 0.7246 - val_loss: 0.4172 - val_accuracy: 0.8409\n",
      "Epoch 13/50\n"
     ]
    },
    {
     "name": "stdout",
     "output_type": "stream",
     "text": [
      "5/6 [========================>.....] - ETA: 1s - loss: 0.5196 - accuracy: 0.7300"
     ]
    },
    {
     "name": "stdout",
     "output_type": "stream",
     "text": [
      "6/6 [==============================] - 11s 2s/step - loss: 0.5232 - accuracy: 0.7285 - val_loss: 0.4306 - val_accuracy: 0.8258\n",
      "Epoch 14/50\n"
     ]
    },
    {
     "name": "stdout",
     "output_type": "stream",
     "text": [
      "5/6 [========================>.....] - ETA: 1s - loss: 0.4773 - accuracy: 0.7760"
     ]
    },
    {
     "name": "stdout",
     "output_type": "stream",
     "text": [
      "6/6 [==============================] - 10s 1s/step - loss: 0.4858 - accuracy: 0.7734 - val_loss: 0.4198 - val_accuracy: 0.8333\n",
      "Epoch 15/50\n"
     ]
    },
    {
     "name": "stdout",
     "output_type": "stream",
     "text": [
      "5/6 [========================>.....] - ETA: 1s - loss: 0.4907 - accuracy: 0.7500"
     ]
    },
    {
     "name": "stdout",
     "output_type": "stream",
     "text": [
      "6/6 [==============================] - 10s 1s/step - loss: 0.4898 - accuracy: 0.7500 - val_loss: 0.4087 - val_accuracy: 0.8485\n",
      "Epoch 16/50\n"
     ]
    },
    {
     "name": "stdout",
     "output_type": "stream",
     "text": [
      "5/6 [========================>.....] - ETA: 1s - loss: 0.4665 - accuracy: 0.7840"
     ]
    },
    {
     "name": "stdout",
     "output_type": "stream",
     "text": [
      "6/6 [==============================] - 10s 2s/step - loss: 0.4612 - accuracy: 0.7871 - val_loss: 0.3789 - val_accuracy: 0.8485\n",
      "Epoch 17/50\n"
     ]
    },
    {
     "name": "stdout",
     "output_type": "stream",
     "text": [
      "5/6 [========================>.....] - ETA: 1s - loss: 0.4897 - accuracy: 0.7620"
     ]
    },
    {
     "name": "stdout",
     "output_type": "stream",
     "text": [
      "6/6 [==============================] - 12s 2s/step - loss: 0.4892 - accuracy: 0.7598 - val_loss: 0.3523 - val_accuracy: 0.8485\n",
      "Epoch 18/50\n"
     ]
    },
    {
     "name": "stdout",
     "output_type": "stream",
     "text": [
      "5/6 [========================>.....] - ETA: 1s - loss: 0.4521 - accuracy: 0.7780"
     ]
    },
    {
     "name": "stdout",
     "output_type": "stream",
     "text": [
      "6/6 [==============================] - 10s 1s/step - loss: 0.4510 - accuracy: 0.7793 - val_loss: 0.3426 - val_accuracy: 0.8636\n",
      "Epoch 19/50\n"
     ]
    },
    {
     "name": "stdout",
     "output_type": "stream",
     "text": [
      "5/6 [========================>.....] - ETA: 1s - loss: 0.4141 - accuracy: 0.8140"
     ]
    },
    {
     "name": "stdout",
     "output_type": "stream",
     "text": [
      "6/6 [==============================] - 10s 1s/step - loss: 0.4181 - accuracy: 0.8086 - val_loss: 0.3366 - val_accuracy: 0.8712\n",
      "Epoch 20/50\n"
     ]
    },
    {
     "name": "stdout",
     "output_type": "stream",
     "text": [
      "5/6 [========================>.....] - ETA: 1s - loss: 0.4101 - accuracy: 0.8120"
     ]
    },
    {
     "name": "stdout",
     "output_type": "stream",
     "text": [
      "6/6 [==============================] - 13s 2s/step - loss: 0.4168 - accuracy: 0.8066 - val_loss: 0.3482 - val_accuracy: 0.8561\n",
      "Epoch 21/50\n"
     ]
    },
    {
     "name": "stdout",
     "output_type": "stream",
     "text": [
      "5/6 [========================>.....] - ETA: 1s - loss: 0.4373 - accuracy: 0.8020"
     ]
    },
    {
     "name": "stdout",
     "output_type": "stream",
     "text": [
      "6/6 [==============================] - 13s 2s/step - loss: 0.4389 - accuracy: 0.8008 - val_loss: 0.3304 - val_accuracy: 0.8788\n",
      "Epoch 22/50\n"
     ]
    },
    {
     "name": "stdout",
     "output_type": "stream",
     "text": [
      "5/6 [========================>.....] - ETA: 1s - loss: 0.4128 - accuracy: 0.8180"
     ]
    },
    {
     "name": "stdout",
     "output_type": "stream",
     "text": [
      "6/6 [==============================] - 12s 2s/step - loss: 0.4123 - accuracy: 0.8164 - val_loss: 0.3158 - val_accuracy: 0.8712\n",
      "Epoch 23/50\n"
     ]
    },
    {
     "name": "stdout",
     "output_type": "stream",
     "text": [
      "5/6 [========================>.....] - ETA: 1s - loss: 0.3895 - accuracy: 0.8240"
     ]
    },
    {
     "name": "stdout",
     "output_type": "stream",
     "text": [
      "6/6 [==============================] - 12s 2s/step - loss: 0.3940 - accuracy: 0.8223 - val_loss: 0.3106 - val_accuracy: 0.8788\n",
      "Epoch 24/50\n"
     ]
    },
    {
     "name": "stdout",
     "output_type": "stream",
     "text": [
      "5/6 [========================>.....] - ETA: 1s - loss: 0.3454 - accuracy: 0.8460"
     ]
    },
    {
     "name": "stdout",
     "output_type": "stream",
     "text": [
      "6/6 [==============================] - 11s 2s/step - loss: 0.3403 - accuracy: 0.8496 - val_loss: 0.3038 - val_accuracy: 0.8788\n",
      "Epoch 25/50\n"
     ]
    },
    {
     "name": "stdout",
     "output_type": "stream",
     "text": [
      "5/6 [========================>.....] - ETA: 1s - loss: 0.3720 - accuracy: 0.8340"
     ]
    },
    {
     "name": "stdout",
     "output_type": "stream",
     "text": [
      "6/6 [==============================] - 13s 2s/step - loss: 0.3733 - accuracy: 0.8340 - val_loss: 0.2793 - val_accuracy: 0.8864\n",
      "Epoch 26/50\n"
     ]
    },
    {
     "name": "stdout",
     "output_type": "stream",
     "text": [
      "5/6 [========================>.....] - ETA: 1s - loss: 0.3481 - accuracy: 0.8540"
     ]
    },
    {
     "name": "stdout",
     "output_type": "stream",
     "text": [
      "6/6 [==============================] - 10s 2s/step - loss: 0.3500 - accuracy: 0.8535 - val_loss: 0.2722 - val_accuracy: 0.8939\n",
      "Epoch 27/50\n"
     ]
    },
    {
     "name": "stdout",
     "output_type": "stream",
     "text": [
      "5/6 [========================>.....] - ETA: 1s - loss: 0.3093 - accuracy: 0.8800"
     ]
    },
    {
     "name": "stdout",
     "output_type": "stream",
     "text": [
      "6/6 [==============================] - 10s 1s/step - loss: 0.3143 - accuracy: 0.8789 - val_loss: 0.2845 - val_accuracy: 0.8864\n",
      "Epoch 28/50\n"
     ]
    },
    {
     "name": "stdout",
     "output_type": "stream",
     "text": [
      "5/6 [========================>.....] - ETA: 1s - loss: 0.3340 - accuracy: 0.8620"
     ]
    },
    {
     "name": "stdout",
     "output_type": "stream",
     "text": [
      "6/6 [==============================] - 10s 1s/step - loss: 0.3395 - accuracy: 0.8574 - val_loss: 0.2818 - val_accuracy: 0.8788\n",
      "Epoch 29/50\n"
     ]
    },
    {
     "name": "stdout",
     "output_type": "stream",
     "text": [
      "5/6 [========================>.....] - ETA: 1s - loss: 0.3396 - accuracy: 0.8500"
     ]
    },
    {
     "name": "stdout",
     "output_type": "stream",
     "text": [
      "6/6 [==============================] - 13s 2s/step - loss: 0.3425 - accuracy: 0.8496 - val_loss: 0.2730 - val_accuracy: 0.8864\n",
      "Epoch 30/50\n"
     ]
    },
    {
     "name": "stdout",
     "output_type": "stream",
     "text": [
      "5/6 [========================>.....] - ETA: 1s - loss: 0.2950 - accuracy: 0.8900"
     ]
    },
    {
     "name": "stdout",
     "output_type": "stream",
     "text": [
      "6/6 [==============================] - 11s 2s/step - loss: 0.2930 - accuracy: 0.8906 - val_loss: 0.2546 - val_accuracy: 0.9091\n",
      "Epoch 31/50\n"
     ]
    },
    {
     "name": "stdout",
     "output_type": "stream",
     "text": [
      "5/6 [========================>.....] - ETA: 1s - loss: 0.2859 - accuracy: 0.8840"
     ]
    },
    {
     "name": "stdout",
     "output_type": "stream",
     "text": [
      "6/6 [==============================] - 9s 1s/step - loss: 0.2847 - accuracy: 0.8848 - val_loss: 0.2341 - val_accuracy: 0.9167\n",
      "Epoch 32/50\n"
     ]
    },
    {
     "name": "stdout",
     "output_type": "stream",
     "text": [
      "5/6 [========================>.....] - ETA: 1s - loss: 0.2798 - accuracy: 0.8940"
     ]
    },
    {
     "name": "stdout",
     "output_type": "stream",
     "text": [
      "6/6 [==============================] - 10s 1s/step - loss: 0.2914 - accuracy: 0.8887 - val_loss: 0.2354 - val_accuracy: 0.9167\n",
      "Epoch 33/50\n"
     ]
    },
    {
     "name": "stdout",
     "output_type": "stream",
     "text": [
      "5/6 [========================>.....] - ETA: 1s - loss: 0.3057 - accuracy: 0.8800"
     ]
    },
    {
     "name": "stdout",
     "output_type": "stream",
     "text": [
      "6/6 [==============================] - 10s 2s/step - loss: 0.3037 - accuracy: 0.8809 - val_loss: 0.2414 - val_accuracy: 0.8939\n",
      "Epoch 34/50\n"
     ]
    },
    {
     "name": "stdout",
     "output_type": "stream",
     "text": [
      "5/6 [========================>.....] - ETA: 1s - loss: 0.2892 - accuracy: 0.8960"
     ]
    },
    {
     "name": "stdout",
     "output_type": "stream",
     "text": [
      "6/6 [==============================] - 9s 1s/step - loss: 0.2905 - accuracy: 0.8926 - val_loss: 0.2374 - val_accuracy: 0.8939\n",
      "Epoch 35/50\n"
     ]
    },
    {
     "name": "stdout",
     "output_type": "stream",
     "text": [
      "5/6 [========================>.....] - ETA: 1s - loss: 0.2606 - accuracy: 0.8940"
     ]
    },
    {
     "name": "stdout",
     "output_type": "stream",
     "text": [
      "6/6 [==============================] - 10s 1s/step - loss: 0.2580 - accuracy: 0.8945 - val_loss: 0.2217 - val_accuracy: 0.9167\n",
      "Epoch 36/50\n"
     ]
    },
    {
     "name": "stdout",
     "output_type": "stream",
     "text": [
      "5/6 [========================>.....] - ETA: 1s - loss: 0.2465 - accuracy: 0.8960"
     ]
    },
    {
     "name": "stdout",
     "output_type": "stream",
     "text": [
      "6/6 [==============================] - 10s 2s/step - loss: 0.2531 - accuracy: 0.8926 - val_loss: 0.2040 - val_accuracy: 0.9167\n",
      "Epoch 37/50\n"
     ]
    },
    {
     "name": "stdout",
     "output_type": "stream",
     "text": [
      "5/6 [========================>.....] - ETA: 1s - loss: 0.2077 - accuracy: 0.9280"
     ]
    },
    {
     "name": "stdout",
     "output_type": "stream",
     "text": [
      "6/6 [==============================] - 11s 2s/step - loss: 0.2221 - accuracy: 0.9219 - val_loss: 0.2038 - val_accuracy: 0.9167\n",
      "Epoch 38/50\n"
     ]
    },
    {
     "name": "stdout",
     "output_type": "stream",
     "text": [
      "5/6 [========================>.....] - ETA: 1s - loss: 0.2345 - accuracy: 0.8980"
     ]
    },
    {
     "name": "stdout",
     "output_type": "stream",
     "text": [
      "6/6 [==============================] - 10s 1s/step - loss: 0.2365 - accuracy: 0.8965 - val_loss: 0.2067 - val_accuracy: 0.9167\n",
      "Epoch 39/50\n"
     ]
    },
    {
     "name": "stdout",
     "output_type": "stream",
     "text": [
      "5/6 [========================>.....] - ETA: 1s - loss: 0.2426 - accuracy: 0.9080"
     ]
    },
    {
     "name": "stdout",
     "output_type": "stream",
     "text": [
      "6/6 [==============================] - 10s 1s/step - loss: 0.2405 - accuracy: 0.9102 - val_loss: 0.1966 - val_accuracy: 0.9167\n",
      "Epoch 40/50\n"
     ]
    },
    {
     "name": "stdout",
     "output_type": "stream",
     "text": [
      "6/6 [==============================] - ETA: 0s - loss: 0.2457 - accuracy: 0.9082"
     ]
    },
    {
     "name": "stdout",
     "output_type": "stream",
     "text": [
      "6/6 [==============================] - 10s 2s/step - loss: 0.2457 - accuracy: 0.9082 - val_loss: 0.1945 - val_accuracy: 0.9167\n",
      "Epoch 41/50\n"
     ]
    },
    {
     "name": "stdout",
     "output_type": "stream",
     "text": [
      "5/6 [========================>.....] - ETA: 1s - loss: 0.2346 - accuracy: 0.9260"
     ]
    },
    {
     "name": "stdout",
     "output_type": "stream",
     "text": [
      "6/6 [==============================] - 12s 2s/step - loss: 0.2338 - accuracy: 0.9258 - val_loss: 0.1914 - val_accuracy: 0.9167\n",
      "Epoch 42/50\n"
     ]
    },
    {
     "name": "stdout",
     "output_type": "stream",
     "text": [
      "5/6 [========================>.....] - ETA: 1s - loss: 0.2430 - accuracy: 0.9040"
     ]
    },
    {
     "name": "stdout",
     "output_type": "stream",
     "text": [
      "6/6 [==============================] - 10s 1s/step - loss: 0.2425 - accuracy: 0.9043 - val_loss: 0.1847 - val_accuracy: 0.9167\n",
      "Epoch 43/50\n"
     ]
    },
    {
     "name": "stdout",
     "output_type": "stream",
     "text": [
      "5/6 [========================>.....] - ETA: 1s - loss: 0.2143 - accuracy: 0.9200"
     ]
    },
    {
     "name": "stdout",
     "output_type": "stream",
     "text": [
      "6/6 [==============================] - 10s 1s/step - loss: 0.2137 - accuracy: 0.9199 - val_loss: 0.1926 - val_accuracy: 0.9167\n",
      "Epoch 44/50\n"
     ]
    },
    {
     "name": "stdout",
     "output_type": "stream",
     "text": [
      "5/6 [========================>.....] - ETA: 1s - loss: 0.2470 - accuracy: 0.8900"
     ]
    },
    {
     "name": "stdout",
     "output_type": "stream",
     "text": [
      "6/6 [==============================] - 11s 2s/step - loss: 0.2488 - accuracy: 0.8887 - val_loss: 0.1950 - val_accuracy: 0.9091\n",
      "Epoch 45/50\n"
     ]
    },
    {
     "name": "stdout",
     "output_type": "stream",
     "text": [
      "5/6 [========================>.....] - ETA: 1s - loss: 0.2371 - accuracy: 0.9000"
     ]
    },
    {
     "name": "stdout",
     "output_type": "stream",
     "text": [
      "6/6 [==============================] - 11s 2s/step - loss: 0.2331 - accuracy: 0.9023 - val_loss: 0.1841 - val_accuracy: 0.9167\n",
      "Epoch 46/50\n"
     ]
    },
    {
     "name": "stdout",
     "output_type": "stream",
     "text": [
      "5/6 [========================>.....] - ETA: 1s - loss: 0.2184 - accuracy: 0.9260"
     ]
    },
    {
     "name": "stdout",
     "output_type": "stream",
     "text": [
      "6/6 [==============================] - 10s 1s/step - loss: 0.2185 - accuracy: 0.9258 - val_loss: 0.1728 - val_accuracy: 0.9167\n",
      "Epoch 47/50\n"
     ]
    },
    {
     "name": "stdout",
     "output_type": "stream",
     "text": [
      "5/6 [========================>.....] - ETA: 1s - loss: 0.2170 - accuracy: 0.9200"
     ]
    },
    {
     "name": "stdout",
     "output_type": "stream",
     "text": [
      "6/6 [==============================] - 10s 2s/step - loss: 0.2189 - accuracy: 0.9160 - val_loss: 0.1765 - val_accuracy: 0.9167\n",
      "Epoch 48/50\n"
     ]
    },
    {
     "name": "stdout",
     "output_type": "stream",
     "text": [
      "5/6 [========================>.....] - ETA: 1s - loss: 0.2151 - accuracy: 0.9220"
     ]
    },
    {
     "name": "stdout",
     "output_type": "stream",
     "text": [
      "6/6 [==============================] - 13s 2s/step - loss: 0.2111 - accuracy: 0.9238 - val_loss: 0.1936 - val_accuracy: 0.9091\n",
      "Epoch 49/50\n"
     ]
    },
    {
     "name": "stdout",
     "output_type": "stream",
     "text": [
      "5/6 [========================>.....] - ETA: 1s - loss: 0.1917 - accuracy: 0.9380"
     ]
    },
    {
     "name": "stdout",
     "output_type": "stream",
     "text": [
      "6/6 [==============================] - 11s 2s/step - loss: 0.1892 - accuracy: 0.9395 - val_loss: 0.1825 - val_accuracy: 0.9167\n",
      "Epoch 50/50\n"
     ]
    },
    {
     "name": "stdout",
     "output_type": "stream",
     "text": [
      "5/6 [========================>.....] - ETA: 1s - loss: 0.1994 - accuracy: 0.9180"
     ]
    },
    {
     "name": "stdout",
     "output_type": "stream",
     "text": [
      "6/6 [==============================] - 10s 1s/step - loss: 0.1987 - accuracy: 0.9199 - val_loss: 0.1661 - val_accuracy: 0.9167\n"
     ]
    }
   ],
   "source": [
    "hist = ResNetmodel.fit(trainset, validation_data=testset, epochs = 50)"
   ]
  },
  {
   "cell_type": "code",
   "execution_count": 95,
   "metadata": {
    "colab": {
     "base_uri": "https://localhost:8080/",
     "height": 607
    },
    "id": "BxO04hZlJVaD",
    "outputId": "6062b606-36c4-40e2-8065-98cf4626956c"
   },
   "outputs": [
    {
     "data": {
      "image/png": "[encoded data removed]",
      "text/plain": [
       "<Figure size 1400x700 with 1 Axes>"
      ]
     },
     "metadata": {},
     "output_type": "display_data"
    }
   ],
   "source": [
    "acc = hist.history['accuracy']\n",
    "val_acc = hist.history['val_accuracy']\n",
    "\n",
    "epochs = range(len(acc))\n",
    "plt.figure(figsize = (14, 7))\n",
    "plt.title('Accuracy')\n",
    "plt.plot(epochs, acc, 'r', label = 'Train Accuracy')\n",
    "plt.plot(epochs, val_acc, 'b', label = 'Test Accuracy')\n",
    "plt.legend(loc = 'upper left')\n",
    "\n",
    "plt.show()"
   ]
  },
  {
   "cell_type": "code",
   "execution_count": 96,
   "metadata": {
    "colab": {
     "base_uri": "https://localhost:8080/"
    },
    "id": "A49jomWLJcun",
    "outputId": "9e26bb89-e0a4-4ff7-dc9a-311693d855b2"
   },
   "outputs": [
    {
     "name": "stdout",
     "output_type": "stream",
     "text": [
      "     10/Unknown - 0s 19ms/step - loss: 0.1921 - accuracy: 0.9000"
     ]
    },
    {
     "name": "stdout",
     "output_type": "stream",
     "text": [
      "132/132 [==============================] - 3s 25ms/step - loss: 0.1661 - accuracy: 0.9167\n",
      "[0.16611599922180176, 0.9166666865348816]\n"
     ]
    }
   ],
   "source": [
    "print(ResNetmodel.evaluate(testset))"
   ]
  },
  {
   "cell_type": "code",
   "execution_count": 97,
   "metadata": {
    "colab": {
     "base_uri": "https://localhost:8080/"
    },
    "id": "LFx5Q5igJcTI",
    "outputId": "7860fc31-ea79-4a5f-a723-484d57148a5d"
   },
   "outputs": [
    {
     "name": "stdout",
     "output_type": "stream",
     "text": [
      "5/5 [==============================] - 1s 98ms/step\n"
     ]
    },
    {
     "data": {
      "text/plain": [
       "<tf.Tensor: shape=(2, 2), dtype=int32, numpy=\n",
       "array([[41,  3],\n",
       "       [ 8, 80]], dtype=int32)>"
      ]
     },
     "execution_count": 97,
     "metadata": {},
     "output_type": "execute_result"
    }
   ],
   "source": [
    "#testds = list(testset)\n",
    "\n",
    "# y_true = [y.numpy().argmax(1)[0] for _, y in testds]\n",
    "y_pred2 = ResNetmodel.predict(tf.stack([x[0] for x, _ in testds])).argmax(1)\n",
    "\n",
    "tf.math.confusion_matrix(labels=y_true, predictions=y_pred2)"
   ]
  },
  {
   "cell_type": "code",
   "execution_count": 98,
   "metadata": {
    "colab": {
     "base_uri": "https://localhost:8080/",
     "height": 455
    },
    "id": "tYHHlYwoJnC5",
    "outputId": "72cffead-ebde-4150-e374-62c049646f51"
   },
   "outputs": [
    {
     "data": {
      "image/png": "[encoded data removed]",
      "text/plain": [
       "<Figure size 640x480 with 2 Axes>"
      ]
     },
     "metadata": {},
     "output_type": "display_data"
    }
   ],
   "source": [
    "ConfusionMatrixDisplay(confusion_matrix(y_pred2, y_true), display_labels = ['No', 'Yes'], ).plot()\n",
    "plt.show()"
   ]
  },
  {
   "cell_type": "code",
   "execution_count": 107,
   "metadata": {
    "colab": {
     "base_uri": "https://localhost:8080/"
    },
    "id": "ylfI92EwTzgz",
    "outputId": "a24087ff-1e1c-47b7-f861-0119e1ee34b7"
   },
   "outputs": [
    {
     "name": "stdout",
     "output_type": "stream",
     "text": [
      "              precision    recall  f1-score   support\n",
      "\n",
      "           0       0.93      0.84      0.88        49\n",
      "           1       0.91      0.96      0.94        83\n",
      "\n",
      "    accuracy                           0.92       132\n",
      "   macro avg       0.92      0.90      0.91       132\n",
      "weighted avg       0.92      0.92      0.92       132\n",
      "\n"
     ]
    }
   ],
   "source": [
    "print(classification_report(y_pred2, y_true))"
   ]
  },
  {
   "cell_type": "markdown",
   "metadata": {
    "id": "Vo7aoqI1T-5H"
   },
   "source": [
    "#### Inception-V3"
   ]
  },
  {
   "cell_type": "code",
   "execution_count": 100,
   "metadata": {
    "id": "dWU1cQRIVcLQ"
   },
   "outputs": [],
   "source": [
    "inceptionv3_model = tf.keras.applications.inception_v3.InceptionV3(weights=\"imagenet\", include_top=False, input_shape=(224, 224, 3))\n",
    "\n",
    "for layer in inceptionv3_model.layers:\n",
    "    layer.trainable = False\n",
    "\n",
    "input = tf.keras.layers.Input(shape=(224, 224, 3))\n",
    "\n",
    "fusion = tf.keras.layers.Concatenate()([\n",
    "     tf.keras.layers.GlobalAveragePooling2D()(inceptionv3_model(input))\n",
    "])\n",
    "x = tf.keras.layers.Flatten()(fusion)\n",
    "x = tf.keras.layers.Dense(512, activation=\"relu\")(x)\n",
    "x = tf.keras.layers.Dropout(0.5)(x)\n",
    "x = tf.keras.layers.Dense(128, activation=\"relu\")(x)\n",
    "x = tf.keras.layers.Dropout(0.5)(x)\n",
    "\n",
    "output = tf.keras.layers.Dense(2, activation=\"softmax\")(x)\n",
    "\n",
    "InceptionV3model = tf.keras.models.Model(inputs=input, outputs=output)\n",
    "\n",
    "InceptionV3model.compile(\n",
    "    optimizer=tf.keras.optimizers.Adam(learning_rate=0.0001),\n",
    "    loss='categorical_crossentropy',\n",
    "    metrics=['accuracy']\n",
    ")"
   ]
  },
  {
   "cell_type": "code",
   "execution_count": 101,
   "metadata": {
    "colab": {
     "base_uri": "https://localhost:8080/"
    },
    "id": "Y5L-plTZJt7t",
    "outputId": "7f4b7d0b-4a21-4946-b780-0532044b0611"
   },
   "outputs": [
    {
     "name": "stdout",
     "output_type": "stream",
     "text": [
      "Epoch 1/50\n"
     ]
    },
    {
     "name": "stdout",
     "output_type": "stream",
     "text": [
      "      5/Unknown - 13s 956ms/step - loss: 38.9978 - accuracy: 0.3360"
     ]
    },
    {
     "name": "stdout",
     "output_type": "stream",
     "text": [
      "6/6 [==============================] - 17s 2s/step - loss: 38.8063 - accuracy: 0.3359 - val_loss: 14.2512 - val_accuracy: 0.6667\n",
      "Epoch 2/50\n"
     ]
    },
    {
     "name": "stdout",
     "output_type": "stream",
     "text": [
      "5/6 [========================>.....] - ETA: 2s - loss: 15.3827 - accuracy: 0.6120"
     ]
    },
    {
     "name": "stdout",
     "output_type": "stream",
     "text": [
      "6/6 [==============================] - 15s 2s/step - loss: 15.8437 - accuracy: 0.6074 - val_loss: 4.9220 - val_accuracy: 0.6742\n",
      "Epoch 3/50\n"
     ]
    },
    {
     "name": "stdout",
     "output_type": "stream",
     "text": [
      "5/6 [========================>.....] - ETA: 1s - loss: 10.0722 - accuracy: 0.6700"
     ]
    },
    {
     "name": "stdout",
     "output_type": "stream",
     "text": [
      "6/6 [==============================] - 10s 2s/step - loss: 10.1566 - accuracy: 0.6680 - val_loss: 0.9977 - val_accuracy: 0.8788\n",
      "Epoch 4/50\n"
     ]
    },
    {
     "name": "stdout",
     "output_type": "stream",
     "text": [
      "5/6 [========================>.....] - ETA: 1s - loss: 9.4475 - accuracy: 0.6460"
     ]
    },
    {
     "name": "stdout",
     "output_type": "stream",
     "text": [
      "6/6 [==============================] - 12s 2s/step - loss: 9.2777 - accuracy: 0.6504 - val_loss: 1.7175 - val_accuracy: 0.8409\n",
      "Epoch 5/50\n"
     ]
    },
    {
     "name": "stdout",
     "output_type": "stream",
     "text": [
      "5/6 [========================>.....] - ETA: 1s - loss: 8.2269 - accuracy: 0.6860"
     ]
    },
    {
     "name": "stdout",
     "output_type": "stream",
     "text": [
      "6/6 [==============================] - 10s 2s/step - loss: 8.2079 - accuracy: 0.6797 - val_loss: 1.8140 - val_accuracy: 0.8409\n",
      "Epoch 6/50\n"
     ]
    },
    {
     "name": "stdout",
     "output_type": "stream",
     "text": [
      "5/6 [========================>.....] - ETA: 1s - loss: 7.6254 - accuracy: 0.6600"
     ]
    },
    {
     "name": "stdout",
     "output_type": "stream",
     "text": [
      "6/6 [==============================] - 10s 1s/step - loss: 7.5689 - accuracy: 0.6582 - val_loss: 1.2810 - val_accuracy: 0.8712\n",
      "Epoch 7/50\n"
     ]
    },
    {
     "name": "stdout",
     "output_type": "stream",
     "text": [
      "5/6 [========================>.....] - ETA: 1s - loss: 6.2890 - accuracy: 0.7260"
     ]
    },
    {
     "name": "stdout",
     "output_type": "stream",
     "text": [
      "6/6 [==============================] - 10s 2s/step - loss: 6.2905 - accuracy: 0.7266 - val_loss: 1.3774 - val_accuracy: 0.8712\n",
      "Epoch 8/50\n"
     ]
    },
    {
     "name": "stdout",
     "output_type": "stream",
     "text": [
      "5/6 [========================>.....] - ETA: 1s - loss: 4.7549 - accuracy: 0.7680"
     ]
    },
    {
     "name": "stdout",
     "output_type": "stream",
     "text": [
      "6/6 [==============================] - 11s 2s/step - loss: 5.1143 - accuracy: 0.7656 - val_loss: 1.4998 - val_accuracy: 0.8636\n",
      "Epoch 9/50\n"
     ]
    },
    {
     "name": "stdout",
     "output_type": "stream",
     "text": [
      "5/6 [========================>.....] - ETA: 1s - loss: 4.9530 - accuracy: 0.7360"
     ]
    },
    {
     "name": "stdout",
     "output_type": "stream",
     "text": [
      "6/6 [==============================] - 10s 1s/step - loss: 4.9530 - accuracy: 0.7383 - val_loss: 1.4857 - val_accuracy: 0.8636\n",
      "Epoch 10/50\n"
     ]
    },
    {
     "name": "stdout",
     "output_type": "stream",
     "text": [
      "5/6 [========================>.....] - ETA: 1s - loss: 4.2979 - accuracy: 0.7500"
     ]
    },
    {
     "name": "stdout",
     "output_type": "stream",
     "text": [
      "6/6 [==============================] - 10s 1s/step - loss: 4.3539 - accuracy: 0.7480 - val_loss: 1.4195 - val_accuracy: 0.8636\n",
      "Epoch 11/50\n"
     ]
    },
    {
     "name": "stdout",
     "output_type": "stream",
     "text": [
      "5/6 [========================>.....] - ETA: 1s - loss: 3.8215 - accuracy: 0.7800"
     ]
    },
    {
     "name": "stdout",
     "output_type": "stream",
     "text": [
      "6/6 [==============================] - 12s 2s/step - loss: 3.8836 - accuracy: 0.7773 - val_loss: 1.3925 - val_accuracy: 0.8636\n",
      "Epoch 12/50\n"
     ]
    },
    {
     "name": "stdout",
     "output_type": "stream",
     "text": [
      "5/6 [========================>.....] - ETA: 1s - loss: 3.8352 - accuracy: 0.7700"
     ]
    },
    {
     "name": "stdout",
     "output_type": "stream",
     "text": [
      "6/6 [==============================] - 9s 1s/step - loss: 4.0295 - accuracy: 0.7656 - val_loss: 1.4540 - val_accuracy: 0.8561\n",
      "Epoch 13/50\n"
     ]
    },
    {
     "name": "stdout",
     "output_type": "stream",
     "text": [
      "5/6 [========================>.....] - ETA: 1s - loss: 3.4444 - accuracy: 0.7820"
     ]
    },
    {
     "name": "stdout",
     "output_type": "stream",
     "text": [
      "6/6 [==============================] - 10s 1s/step - loss: 3.3907 - accuracy: 0.7812 - val_loss: 1.4863 - val_accuracy: 0.8485\n",
      "Epoch 14/50\n"
     ]
    },
    {
     "name": "stdout",
     "output_type": "stream",
     "text": [
      "5/6 [========================>.....] - ETA: 1s - loss: 3.8754 - accuracy: 0.7820"
     ]
    },
    {
     "name": "stdout",
     "output_type": "stream",
     "text": [
      "6/6 [==============================] - 10s 1s/step - loss: 3.8101 - accuracy: 0.7832 - val_loss: 1.2105 - val_accuracy: 0.8636\n",
      "Epoch 15/50\n"
     ]
    },
    {
     "name": "stdout",
     "output_type": "stream",
     "text": [
      "5/6 [========================>.....] - ETA: 1s - loss: 3.2542 - accuracy: 0.7720"
     ]
    },
    {
     "name": "stdout",
     "output_type": "stream",
     "text": [
      "6/6 [==============================] - 10s 2s/step - loss: 3.2786 - accuracy: 0.7695 - val_loss: 1.0049 - val_accuracy: 0.8788\n",
      "Epoch 16/50\n"
     ]
    },
    {
     "name": "stdout",
     "output_type": "stream",
     "text": [
      "5/6 [========================>.....] - ETA: 1s - loss: 2.4144 - accuracy: 0.8340"
     ]
    },
    {
     "name": "stdout",
     "output_type": "stream",
     "text": [
      "6/6 [==============================] - 9s 1s/step - loss: 2.3751 - accuracy: 0.8340 - val_loss: 1.0328 - val_accuracy: 0.8788\n",
      "Epoch 17/50\n"
     ]
    },
    {
     "name": "stdout",
     "output_type": "stream",
     "text": [
      "5/6 [========================>.....] - ETA: 1s - loss: 2.5294 - accuracy: 0.7980"
     ]
    },
    {
     "name": "stdout",
     "output_type": "stream",
     "text": [
      "6/6 [==============================] - 10s 1s/step - loss: 2.4791 - accuracy: 0.8008 - val_loss: 1.1671 - val_accuracy: 0.8636\n",
      "Epoch 18/50\n"
     ]
    },
    {
     "name": "stdout",
     "output_type": "stream",
     "text": [
      "5/6 [========================>.....] - ETA: 1s - loss: 2.4945 - accuracy: 0.8180"
     ]
    },
    {
     "name": "stdout",
     "output_type": "stream",
     "text": [
      "6/6 [==============================] - 13s 2s/step - loss: 2.4669 - accuracy: 0.8164 - val_loss: 1.1687 - val_accuracy: 0.8712\n",
      "Epoch 19/50\n"
     ]
    },
    {
     "name": "stdout",
     "output_type": "stream",
     "text": [
      "5/6 [========================>.....] - ETA: 1s - loss: 2.1355 - accuracy: 0.8420"
     ]
    },
    {
     "name": "stdout",
     "output_type": "stream",
     "text": [
      "6/6 [==============================] - 13s 2s/step - loss: 2.0859 - accuracy: 0.8457 - val_loss: 1.0922 - val_accuracy: 0.8864\n",
      "Epoch 20/50\n"
     ]
    },
    {
     "name": "stdout",
     "output_type": "stream",
     "text": [
      "5/6 [========================>.....] - ETA: 1s - loss: 1.9966 - accuracy: 0.8400"
     ]
    },
    {
     "name": "stdout",
     "output_type": "stream",
     "text": [
      "6/6 [==============================] - 11s 1s/step - loss: 1.9811 - accuracy: 0.8418 - val_loss: 1.0030 - val_accuracy: 0.8864\n",
      "Epoch 21/50\n"
     ]
    },
    {
     "name": "stdout",
     "output_type": "stream",
     "text": [
      "5/6 [========================>.....] - ETA: 1s - loss: 2.0842 - accuracy: 0.8460"
     ]
    },
    {
     "name": "stdout",
     "output_type": "stream",
     "text": [
      "6/6 [==============================] - 11s 2s/step - loss: 2.1271 - accuracy: 0.8438 - val_loss: 0.9473 - val_accuracy: 0.8864\n",
      "Epoch 22/50\n"
     ]
    },
    {
     "name": "stdout",
     "output_type": "stream",
     "text": [
      "5/6 [========================>.....] - ETA: 1s - loss: 1.8167 - accuracy: 0.8440"
     ]
    },
    {
     "name": "stdout",
     "output_type": "stream",
     "text": [
      "6/6 [==============================] - 10s 1s/step - loss: 1.7742 - accuracy: 0.8477 - val_loss: 0.9645 - val_accuracy: 0.8712\n",
      "Epoch 23/50\n"
     ]
    },
    {
     "name": "stdout",
     "output_type": "stream",
     "text": [
      "5/6 [========================>.....] - ETA: 1s - loss: 1.7007 - accuracy: 0.8460"
     ]
    },
    {
     "name": "stdout",
     "output_type": "stream",
     "text": [
      "6/6 [==============================] - 10s 1s/step - loss: 1.7077 - accuracy: 0.8457 - val_loss: 0.8915 - val_accuracy: 0.8712\n",
      "Epoch 24/50\n"
     ]
    },
    {
     "name": "stdout",
     "output_type": "stream",
     "text": [
      "5/6 [========================>.....] - ETA: 1s - loss: 1.7976 - accuracy: 0.8400"
     ]
    },
    {
     "name": "stdout",
     "output_type": "stream",
     "text": [
      "6/6 [==============================] - 10s 2s/step - loss: 1.7555 - accuracy: 0.8438 - val_loss: 0.8249 - val_accuracy: 0.8712\n",
      "Epoch 25/50\n"
     ]
    },
    {
     "name": "stdout",
     "output_type": "stream",
     "text": [
      "5/6 [========================>.....] - ETA: 1s - loss: 1.5965 - accuracy: 0.8640"
     ]
    },
    {
     "name": "stdout",
     "output_type": "stream",
     "text": [
      "6/6 [==============================] - 10s 1s/step - loss: 1.6366 - accuracy: 0.8574 - val_loss: 0.7310 - val_accuracy: 0.8712\n",
      "Epoch 26/50\n"
     ]
    },
    {
     "name": "stdout",
     "output_type": "stream",
     "text": [
      "5/6 [========================>.....] - ETA: 1s - loss: 1.6625 - accuracy: 0.8420"
     ]
    },
    {
     "name": "stdout",
     "output_type": "stream",
     "text": [
      "6/6 [==============================] - 13s 2s/step - loss: 1.6344 - accuracy: 0.8438 - val_loss: 0.6220 - val_accuracy: 0.8864\n",
      "Epoch 27/50\n"
     ]
    },
    {
     "name": "stdout",
     "output_type": "stream",
     "text": [
      "5/6 [========================>.....] - ETA: 1s - loss: 1.7039 - accuracy: 0.8220"
     ]
    },
    {
     "name": "stdout",
     "output_type": "stream",
     "text": [
      "6/6 [==============================] - 10s 2s/step - loss: 1.6945 - accuracy: 0.8203 - val_loss: 0.5371 - val_accuracy: 0.9015\n",
      "Epoch 28/50\n"
     ]
    },
    {
     "name": "stdout",
     "output_type": "stream",
     "text": [
      "5/6 [========================>.....] - ETA: 1s - loss: 1.5071 - accuracy: 0.8740"
     ]
    },
    {
     "name": "stdout",
     "output_type": "stream",
     "text": [
      "6/6 [==============================] - 12s 2s/step - loss: 1.5681 - accuracy: 0.8672 - val_loss: 0.5730 - val_accuracy: 0.8939\n",
      "Epoch 29/50\n"
     ]
    },
    {
     "name": "stdout",
     "output_type": "stream",
     "text": [
      "5/6 [========================>.....] - ETA: 1s - loss: 1.4103 - accuracy: 0.8640"
     ]
    },
    {
     "name": "stdout",
     "output_type": "stream",
     "text": [
      "6/6 [==============================] - 9s 1s/step - loss: 1.4913 - accuracy: 0.8555 - val_loss: 0.6383 - val_accuracy: 0.8864\n",
      "Epoch 30/50\n"
     ]
    },
    {
     "name": "stdout",
     "output_type": "stream",
     "text": [
      "5/6 [========================>.....] - ETA: 1s - loss: 1.3627 - accuracy: 0.8680"
     ]
    },
    {
     "name": "stdout",
     "output_type": "stream",
     "text": [
      "6/6 [==============================] - 10s 1s/step - loss: 1.3470 - accuracy: 0.8672 - val_loss: 0.6826 - val_accuracy: 0.8636\n",
      "Epoch 31/50\n"
     ]
    },
    {
     "name": "stdout",
     "output_type": "stream",
     "text": [
      "5/6 [========================>.....] - ETA: 1s - loss: 1.7779 - accuracy: 0.8220"
     ]
    },
    {
     "name": "stdout",
     "output_type": "stream",
     "text": [
      "6/6 [==============================] - 10s 2s/step - loss: 1.7378 - accuracy: 0.8242 - val_loss: 0.5945 - val_accuracy: 0.8864\n",
      "Epoch 32/50\n"
     ]
    },
    {
     "name": "stdout",
     "output_type": "stream",
     "text": [
      "5/6 [========================>.....] - ETA: 1s - loss: 1.5525 - accuracy: 0.8440"
     ]
    },
    {
     "name": "stdout",
     "output_type": "stream",
     "text": [
      "6/6 [==============================] - 11s 2s/step - loss: 1.5331 - accuracy: 0.8438 - val_loss: 0.5494 - val_accuracy: 0.8939\n",
      "Epoch 33/50\n"
     ]
    },
    {
     "name": "stdout",
     "output_type": "stream",
     "text": [
      "5/6 [========================>.....] - ETA: 1s - loss: 1.2519 - accuracy: 0.8600"
     ]
    },
    {
     "name": "stdout",
     "output_type": "stream",
     "text": [
      "6/6 [==============================] - 10s 1s/step - loss: 1.2759 - accuracy: 0.8594 - val_loss: 0.5421 - val_accuracy: 0.8864\n",
      "Epoch 34/50\n"
     ]
    },
    {
     "name": "stdout",
     "output_type": "stream",
     "text": [
      "5/6 [========================>.....] - ETA: 1s - loss: 1.1757 - accuracy: 0.8800"
     ]
    },
    {
     "name": "stdout",
     "output_type": "stream",
     "text": [
      "6/6 [==============================] - 10s 2s/step - loss: 1.1966 - accuracy: 0.8770 - val_loss: 0.5193 - val_accuracy: 0.8788\n",
      "Epoch 35/50\n"
     ]
    },
    {
     "name": "stdout",
     "output_type": "stream",
     "text": [
      "5/6 [========================>.....] - ETA: 1s - loss: 1.0631 - accuracy: 0.8440"
     ]
    },
    {
     "name": "stdout",
     "output_type": "stream",
     "text": [
      "6/6 [==============================] - 12s 2s/step - loss: 1.0580 - accuracy: 0.8438 - val_loss: 0.4798 - val_accuracy: 0.8788\n",
      "Epoch 36/50\n"
     ]
    },
    {
     "name": "stdout",
     "output_type": "stream",
     "text": [
      "5/6 [========================>.....] - ETA: 1s - loss: 1.1670 - accuracy: 0.8560"
     ]
    },
    {
     "name": "stdout",
     "output_type": "stream",
     "text": [
      "6/6 [==============================] - 9s 1s/step - loss: 1.2136 - accuracy: 0.8555 - val_loss: 0.4318 - val_accuracy: 0.9015\n",
      "Epoch 37/50\n"
     ]
    },
    {
     "name": "stdout",
     "output_type": "stream",
     "text": [
      "5/6 [========================>.....] - ETA: 1s - loss: 1.6049 - accuracy: 0.8380"
     ]
    },
    {
     "name": "stdout",
     "output_type": "stream",
     "text": [
      "6/6 [==============================] - 10s 1s/step - loss: 1.5756 - accuracy: 0.8379 - val_loss: 0.3483 - val_accuracy: 0.9167\n",
      "Epoch 38/50\n"
     ]
    },
    {
     "name": "stdout",
     "output_type": "stream",
     "text": [
      "5/6 [========================>.....] - ETA: 1s - loss: 1.5279 - accuracy: 0.8340"
     ]
    },
    {
     "name": "stdout",
     "output_type": "stream",
     "text": [
      "6/6 [==============================] - 10s 2s/step - loss: 1.4923 - accuracy: 0.8379 - val_loss: 0.3244 - val_accuracy: 0.9167\n",
      "Epoch 39/50\n"
     ]
    },
    {
     "name": "stdout",
     "output_type": "stream",
     "text": [
      "5/6 [========================>.....] - ETA: 1s - loss: 1.2168 - accuracy: 0.8560"
     ]
    },
    {
     "name": "stdout",
     "output_type": "stream",
     "text": [
      "6/6 [==============================] - 10s 2s/step - loss: 1.2306 - accuracy: 0.8535 - val_loss: 0.3534 - val_accuracy: 0.9091\n",
      "Epoch 40/50\n"
     ]
    },
    {
     "name": "stdout",
     "output_type": "stream",
     "text": [
      "5/6 [========================>.....] - ETA: 1s - loss: 0.8709 - accuracy: 0.8920"
     ]
    },
    {
     "name": "stdout",
     "output_type": "stream",
     "text": [
      "6/6 [==============================] - 10s 1s/step - loss: 0.8614 - accuracy: 0.8906 - val_loss: 0.4408 - val_accuracy: 0.9015\n",
      "Epoch 41/50\n"
     ]
    },
    {
     "name": "stdout",
     "output_type": "stream",
     "text": [
      "5/6 [========================>.....] - ETA: 1s - loss: 0.9664 - accuracy: 0.8660"
     ]
    },
    {
     "name": "stdout",
     "output_type": "stream",
     "text": [
      "6/6 [==============================] - 12s 2s/step - loss: 0.9650 - accuracy: 0.8652 - val_loss: 0.4553 - val_accuracy: 0.9015\n",
      "Epoch 42/50\n"
     ]
    },
    {
     "name": "stdout",
     "output_type": "stream",
     "text": [
      "5/6 [========================>.....] - ETA: 1s - loss: 0.9679 - accuracy: 0.8580"
     ]
    },
    {
     "name": "stdout",
     "output_type": "stream",
     "text": [
      "6/6 [==============================] - 10s 1s/step - loss: 1.0089 - accuracy: 0.8535 - val_loss: 0.4218 - val_accuracy: 0.9091\n",
      "Epoch 43/50\n"
     ]
    },
    {
     "name": "stdout",
     "output_type": "stream",
     "text": [
      "5/6 [========================>.....] - ETA: 1s - loss: 0.9195 - accuracy: 0.8660"
     ]
    },
    {
     "name": "stdout",
     "output_type": "stream",
     "text": [
      "6/6 [==============================] - 10s 1s/step - loss: 0.8980 - accuracy: 0.8691 - val_loss: 0.4045 - val_accuracy: 0.9167\n",
      "Epoch 44/50\n"
     ]
    },
    {
     "name": "stdout",
     "output_type": "stream",
     "text": [
      "5/6 [========================>.....] - ETA: 1s - loss: 0.7890 - accuracy: 0.8880"
     ]
    },
    {
     "name": "stdout",
     "output_type": "stream",
     "text": [
      "6/6 [==============================] - 10s 1s/step - loss: 0.7708 - accuracy: 0.8906 - val_loss: 0.3844 - val_accuracy: 0.9167\n",
      "Epoch 45/50\n"
     ]
    },
    {
     "name": "stdout",
     "output_type": "stream",
     "text": [
      "5/6 [========================>.....] - ETA: 1s - loss: 0.8516 - accuracy: 0.8720"
     ]
    },
    {
     "name": "stdout",
     "output_type": "stream",
     "text": [
      "6/6 [==============================] - 12s 2s/step - loss: 0.8457 - accuracy: 0.8691 - val_loss: 0.3641 - val_accuracy: 0.9167\n",
      "Epoch 46/50\n"
     ]
    },
    {
     "name": "stdout",
     "output_type": "stream",
     "text": [
      "5/6 [========================>.....] - ETA: 1s - loss: 0.8069 - accuracy: 0.8780"
     ]
    },
    {
     "name": "stdout",
     "output_type": "stream",
     "text": [
      "6/6 [==============================] - 10s 2s/step - loss: 0.8157 - accuracy: 0.8730 - val_loss: 0.3687 - val_accuracy: 0.9242\n",
      "Epoch 47/50\n"
     ]
    },
    {
     "name": "stdout",
     "output_type": "stream",
     "text": [
      "5/6 [========================>.....] - ETA: 1s - loss: 1.0503 - accuracy: 0.8720"
     ]
    },
    {
     "name": "stdout",
     "output_type": "stream",
     "text": [
      "6/6 [==============================] - 10s 1s/step - loss: 1.0510 - accuracy: 0.8691 - val_loss: 0.3800 - val_accuracy: 0.9167\n",
      "Epoch 48/50\n"
     ]
    },
    {
     "name": "stdout",
     "output_type": "stream",
     "text": [
      "5/6 [========================>.....] - ETA: 1s - loss: 0.8984 - accuracy: 0.8660"
     ]
    },
    {
     "name": "stdout",
     "output_type": "stream",
     "text": [
      "6/6 [==============================] - 10s 1s/step - loss: 0.8873 - accuracy: 0.8672 - val_loss: 0.3757 - val_accuracy: 0.9167\n",
      "Epoch 49/50\n"
     ]
    },
    {
     "name": "stdout",
     "output_type": "stream",
     "text": [
      "5/6 [========================>.....] - ETA: 1s - loss: 0.9924 - accuracy: 0.8840"
     ]
    },
    {
     "name": "stdout",
     "output_type": "stream",
     "text": [
      "6/6 [==============================] - 12s 2s/step - loss: 0.9691 - accuracy: 0.8867 - val_loss: 0.3665 - val_accuracy: 0.9242\n",
      "Epoch 50/50\n"
     ]
    },
    {
     "name": "stdout",
     "output_type": "stream",
     "text": [
      "5/6 [========================>.....] - ETA: 1s - loss: 0.8384 - accuracy: 0.8920"
     ]
    },
    {
     "name": "stdout",
     "output_type": "stream",
     "text": [
      "6/6 [==============================] - 11s 2s/step - loss: 0.8191 - accuracy: 0.8945 - val_loss: 0.3605 - val_accuracy: 0.9167\n"
     ]
    }
   ],
   "source": [
    "hist = InceptionV3model.fit(trainset, validation_data=testset, epochs = 50)"
   ]
  },
  {
   "cell_type": "code",
   "execution_count": 102,
   "metadata": {
    "colab": {
     "base_uri": "https://localhost:8080/",
     "height": 607
    },
    "id": "35L0E4SgJt43",
    "outputId": "a2af0ef4-fbe7-41ff-f021-00c94878813a"
   },
   "outputs": [
    {
     "data": {
      "image/png": "[encoded data removed]",
      "text/plain": [
       "<Figure size 1400x700 with 1 Axes>"
      ]
     },
     "metadata": {},
     "output_type": "display_data"
    }
   ],
   "source": [
    "acc = hist.history['accuracy']\n",
    "val_acc = hist.history['val_accuracy']\n",
    "\n",
    "epochs = range(len(acc))\n",
    "plt.figure(figsize = (14, 7))\n",
    "plt.title('Accuracy')\n",
    "plt.plot(epochs, acc, 'r', label = 'Train Accuracy')\n",
    "plt.plot(epochs, val_acc, 'b', label = 'Test Accuracy')\n",
    "plt.legend(loc = 'upper left')\n",
    "\n",
    "plt.show()"
   ]
  },
  {
   "cell_type": "code",
   "execution_count": 103,
   "metadata": {
    "colab": {
     "base_uri": "https://localhost:8080/"
    },
    "id": "iragt6tmJtyO",
    "outputId": "d0f9d0e8-94a1-442b-d8f7-4c1a2fc9dbd6"
   },
   "outputs": [
    {
     "name": "stdout",
     "output_type": "stream",
     "text": [
      "      6/Unknown - 0s 41ms/step - loss: 5.6218e-05 - accuracy: 1.0000"
     ]
    },
    {
     "name": "stdout",
     "output_type": "stream",
     "text": [
      "132/132 [==============================] - 5s 34ms/step - loss: 0.3605 - accuracy: 0.9167\n",
      "[0.3605257570743561, 0.9166666865348816]\n"
     ]
    }
   ],
   "source": [
    "print(InceptionV3model.evaluate(testset))"
   ]
  },
  {
   "cell_type": "code",
   "execution_count": 104,
   "metadata": {
    "colab": {
     "base_uri": "https://localhost:8080/"
    },
    "id": "rsHFGvMPJ0M5",
    "outputId": "91cd7c7e-05b3-4ea2-a3bc-16a4f500e8ba"
   },
   "outputs": [
    {
     "name": "stdout",
     "output_type": "stream",
     "text": [
      "5/5 [==============================] - 2s 77ms/step\n"
     ]
    },
    {
     "data": {
      "text/plain": [
       "<tf.Tensor: shape=(2, 2), dtype=int32, numpy=\n",
       "array([[40,  4],\n",
       "       [ 7, 81]], dtype=int32)>"
      ]
     },
     "execution_count": 104,
     "metadata": {},
     "output_type": "execute_result"
    }
   ],
   "source": [
    "#testds = list(testset)\n",
    "\n",
    "#y_true = [y.numpy().argmax(1)[0] for _, y in testds]\n",
    "y_pred3 = InceptionV3model.predict(tf.stack([x[0] for x, _ in testds])).argmax(1)\n",
    "\n",
    "tf.math.confusion_matrix(labels=y_true, predictions=y_pred3)"
   ]
  },
  {
   "cell_type": "code",
   "execution_count": 105,
   "metadata": {
    "colab": {
     "base_uri": "https://localhost:8080/",
     "height": 450
    },
    "id": "L4oL2KdgJ0F7",
    "outputId": "c9e85bbd-3840-4a4d-e94c-cc0b99e086c0"
   },
   "outputs": [
    {
     "data": {
      "image/png": "[encoded data removed]",
      "text/plain": [
       "<Figure size 640x480 with 2 Axes>"
      ]
     },
     "metadata": {},
     "output_type": "display_data"
    }
   ],
   "source": [
    "ConfusionMatrixDisplay(confusion_matrix(y_pred3, y_true), display_labels = ['No', 'Yes'], ).plot()\n",
    "plt.show()"
   ]
  },
  {
   "cell_type": "code",
   "execution_count": 106,
   "metadata": {
    "colab": {
     "base_uri": "https://localhost:8080/"
    },
    "id": "aoC871BAUHDt",
    "outputId": "bab38bed-ccbb-4f7d-8960-97ae4dc4877f"
   },
   "outputs": [
    {
     "name": "stdout",
     "output_type": "stream",
     "text": [
      "              precision    recall  f1-score   support\n",
      "\n",
      "           0       0.91      0.85      0.88        47\n",
      "           1       0.92      0.95      0.94        85\n",
      "\n",
      "    accuracy                           0.92       132\n",
      "   macro avg       0.91      0.90      0.91       132\n",
      "weighted avg       0.92      0.92      0.92       132\n",
      "\n"
     ]
    }
   ],
   "source": [
    "print(classification_report(y_pred3, y_true))"
   ]
  },
  {
   "cell_type": "markdown",
   "metadata": {
    "id": "nKT4UQnqUiFJ"
   },
   "source": [
    "### Xception"
   ]
  },
  {
   "cell_type": "code",
   "execution_count": 108,
   "metadata": {
    "id": "Qx8htUVYUj2A"
   },
   "outputs": [],
   "source": [
    "xception_model = tf.keras.applications.xception.Xception(weights=\"imagenet\", include_top=False, input_shape=(224, 224, 3))\n",
    "\n",
    "for layer in xception_model.layers:\n",
    "    layer.trainable = False\n",
    "\n",
    "input = tf.keras.layers.Input(shape=(224, 224, 3))\n",
    "\n",
    "fusion = tf.keras.layers.Concatenate()([\n",
    "     tf.keras.layers.GlobalAveragePooling2D()(xception_model(input))\n",
    "])\n",
    "x = tf.keras.layers.Flatten()(xception_model(input))\n",
    "x = tf.keras.layers.Dense(512, activation=\"relu\")(x)\n",
    "x = tf.keras.layers.Dropout(0.5)(x)\n",
    "x = tf.keras.layers.Dense(128, activation=\"relu\")(x)\n",
    "x = tf.keras.layers.Dropout(0.5)(x)\n",
    "\n",
    "output = tf.keras.layers.Dense(2, activation=\"softmax\")(x)\n",
    "\n",
    "Xceptionmodel = tf.keras.models.Model(inputs=input, outputs=output)\n",
    "\n",
    "Xceptionmodel.compile(\n",
    "    optimizer=tf.keras.optimizers.Adam(learning_rate=0.0001),\n",
    "    loss='categorical_crossentropy',\n",
    "    metrics=['accuracy']\n",
    ")"
   ]
  },
  {
   "cell_type": "code",
   "execution_count": 111,
   "metadata": {
    "colab": {
     "base_uri": "https://localhost:8080/"
    },
    "id": "WknO9X4EJ6ei",
    "outputId": "aab31061-9310-486f-ccce-4076276223b4"
   },
   "outputs": [
    {
     "name": "stdout",
     "output_type": "stream",
     "text": [
      "Epoch 1/5\n"
     ]
    },
    {
     "name": "stdout",
     "output_type": "stream",
     "text": [
      "      6/Unknown - 11s 1s/step - loss: 0.3251 - accuracy: 0.8594"
     ]
    },
    {
     "name": "stdout",
     "output_type": "stream",
     "text": [
      "6/6 [==============================] - 13s 2s/step - loss: 0.3251 - accuracy: 0.8594 - val_loss: 0.3448 - val_accuracy: 0.9318\n",
      "Epoch 2/5\n"
     ]
    },
    {
     "name": "stdout",
     "output_type": "stream",
     "text": [
      "6/6 [==============================] - ETA: 0s - loss: 0.2675 - accuracy: 0.9004"
     ]
    },
    {
     "name": "stdout",
     "output_type": "stream",
     "text": [
      "6/6 [==============================] - 13s 2s/step - loss: 0.2675 - accuracy: 0.9004 - val_loss: 0.4937 - val_accuracy: 0.8939\n",
      "Epoch 3/5\n"
     ]
    },
    {
     "name": "stdout",
     "output_type": "stream",
     "text": [
      "6/6 [==============================] - ETA: 0s - loss: 0.4278 - accuracy: 0.8398"
     ]
    },
    {
     "name": "stdout",
     "output_type": "stream",
     "text": [
      "6/6 [==============================] - 11s 2s/step - loss: 0.4278 - accuracy: 0.8398 - val_loss: 0.3476 - val_accuracy: 0.8485\n",
      "Epoch 4/5\n"
     ]
    },
    {
     "name": "stdout",
     "output_type": "stream",
     "text": [
      "6/6 [==============================] - ETA: 0s - loss: 0.2892 - accuracy: 0.8555"
     ]
    },
    {
     "name": "stdout",
     "output_type": "stream",
     "text": [
      "6/6 [==============================] - 11s 2s/step - loss: 0.2892 - accuracy: 0.8555 - val_loss: 0.4024 - val_accuracy: 0.9318\n",
      "Epoch 5/5\n"
     ]
    },
    {
     "name": "stdout",
     "output_type": "stream",
     "text": [
      "6/6 [==============================] - ETA: 0s - loss: 0.3384 - accuracy: 0.8438"
     ]
    },
    {
     "name": "stdout",
     "output_type": "stream",
     "text": [
      "6/6 [==============================] - 11s 2s/step - loss: 0.3384 - accuracy: 0.8438 - val_loss: 0.4020 - val_accuracy: 0.9091\n"
     ]
    }
   ],
   "source": [
    "hist = Xceptionmodel.fit(trainset, validation_data=testset, epochs = 5)"
   ]
  },
  {
   "cell_type": "code",
   "execution_count": 52,
   "metadata": {
    "colab": {
     "base_uri": "https://localhost:8080/",
     "height": 607
    },
    "id": "34W5rw5nJ6ZS",
    "outputId": "cc005bb0-75b5-45dc-a67f-e5b15ee94b1a"
   },
   "outputs": [
    {
     "data": {
      "image/png": "[encoded data removed]",
      "text/plain": [
       "<Figure size 1400x700 with 1 Axes>"
      ]
     },
     "metadata": {},
     "output_type": "display_data"
    }
   ],
   "source": [
    "acc = hist.history['accuracy']\n",
    "val_acc = hist.history['val_accuracy']\n",
    "\n",
    "epochs = range(len(acc))\n",
    "plt.figure(figsize = (14, 7))\n",
    "plt.title('Accuracy')\n",
    "plt.plot(epochs, acc, 'r', label = 'Train Accuracy')\n",
    "plt.plot(epochs, val_acc, 'b', label = 'Test Accuracy')\n",
    "plt.legend(loc = 'upper left')\n",
    "\n",
    "plt.show()"
   ]
  },
  {
   "cell_type": "code",
   "execution_count": 112,
   "metadata": {
    "colab": {
     "base_uri": "https://localhost:8080/"
    },
    "id": "95pTQLKEJ6O7",
    "outputId": "1b2343c0-ef43-4750-a697-5debb013c5ec"
   },
   "outputs": [
    {
     "name": "stdout",
     "output_type": "stream",
     "text": [
      "     10/Unknown - 0s 20ms/step - loss: 0.2209 - accuracy: 1.0000"
     ]
    },
    {
     "name": "stdout",
     "output_type": "stream",
     "text": [
      "132/132 [==============================] - 3s 20ms/step - loss: 0.4020 - accuracy: 0.9091\n",
      "[0.4019636809825897, 0.9090909361839294]\n"
     ]
    }
   ],
   "source": [
    "print(Xceptionmodel.evaluate(testset))"
   ]
  },
  {
   "cell_type": "code",
   "execution_count": 113,
   "metadata": {
    "colab": {
     "base_uri": "https://localhost:8080/"
    },
    "id": "I1e55LrbJ6Id",
    "outputId": "a49d7051-055a-4b71-9c57-145165e1fc01"
   },
   "outputs": [
    {
     "name": "stdout",
     "output_type": "stream",
     "text": [
      "5/5 [==============================] - 2s 144ms/step\n"
     ]
    },
    {
     "data": {
      "text/plain": [
       "<tf.Tensor: shape=(2, 2), dtype=int32, numpy=\n",
       "array([[39,  5],\n",
       "       [ 7, 81]], dtype=int32)>"
      ]
     },
     "execution_count": 113,
     "metadata": {},
     "output_type": "execute_result"
    }
   ],
   "source": [
    "#testds = list(testset)\n",
    "\n",
    "#y_true = [y.numpy().argmax(1)[0] for _, y in testds]\n",
    "y_pred4 = Xceptionmodel.predict(tf.stack([x[0] for x, _ in testds])).argmax(1)\n",
    "\n",
    "tf.math.confusion_matrix(labels=y_true, predictions=y_pred4)"
   ]
  },
  {
   "cell_type": "code",
   "execution_count": 114,
   "metadata": {
    "colab": {
     "base_uri": "https://localhost:8080/",
     "height": 450
    },
    "id": "sn2Hp8BoKG-L",
    "outputId": "bcb86a34-250d-43f0-a94c-cfbcc6a6a76c"
   },
   "outputs": [
    {
     "data": {
      "image/png": "[encoded data removed]",
      "text/plain": [
       "<Figure size 640x480 with 2 Axes>"
      ]
     },
     "metadata": {},
     "output_type": "display_data"
    }
   ],
   "source": [
    "ConfusionMatrixDisplay(confusion_matrix(y_pred4, y_true), display_labels = ['No', 'Yes'], ).plot()\n",
    "plt.show()"
   ]
  },
  {
   "cell_type": "code",
   "execution_count": 115,
   "metadata": {
    "colab": {
     "base_uri": "https://localhost:8080/"
    },
    "id": "KpFTk2ZTUIWk",
    "outputId": "81cc6335-0f11-46b1-bb44-029f6a3255bd"
   },
   "outputs": [
    {
     "name": "stdout",
     "output_type": "stream",
     "text": [
      "              precision    recall  f1-score   support\n",
      "\n",
      "           0       0.89      0.85      0.87        46\n",
      "           1       0.92      0.94      0.93        86\n",
      "\n",
      "    accuracy                           0.91       132\n",
      "   macro avg       0.90      0.89      0.90       132\n",
      "weighted avg       0.91      0.91      0.91       132\n",
      "\n"
     ]
    }
   ],
   "source": [
    "print(classification_report(y_pred4, y_true))"
   ]
  },
  {
   "cell_type": "markdown",
   "metadata": {
    "id": "YP3mlLxfZmTl"
   },
   "source": [
    "### ensemble model\n",
    "\n",
    "Majority vote technique:"
   ]
  },
  {
   "cell_type": "code",
   "execution_count": 116,
   "metadata": {
    "id": "0h6jK_X4ZsJm"
   },
   "outputs": [],
   "source": [
    "y_pred = np.array([y_pred1, y_pred2, y_pred3, y_pred4])\n",
    "y_pred = np.array([np.argmax(np.bincount(y_pred[:, i])) for i in range(len(testds))])"
   ]
  },
  {
   "cell_type": "code",
   "execution_count": 117,
   "metadata": {
    "colab": {
     "base_uri": "https://localhost:8080/",
     "height": 450
    },
    "id": "sqfRLq7VcFp8",
    "outputId": "3dac158c-5559-4562-a7a1-b538537a29e0"
   },
   "outputs": [
    {
     "data": {
      "image/png": "[encoded data removed]",
      "text/plain": [
       "<Figure size 640x480 with 2 Axes>"
      ]
     },
     "metadata": {},
     "output_type": "display_data"
    }
   ],
   "source": [
    "ConfusionMatrixDisplay(confusion_matrix(y_pred, y_true), display_labels = ['Yes', 'No'], ).plot()\n",
    "plt.show()"
   ]
  },
  {
   "cell_type": "code",
   "execution_count": 118,
   "metadata": {
    "colab": {
     "base_uri": "https://localhost:8080/"
    },
    "id": "GViQZeePcFlG",
    "outputId": "b9ba2b52-2f82-44f0-bfdb-c8729122c8fd"
   },
   "outputs": [
    {
     "name": "stdout",
     "output_type": "stream",
     "text": [
      "              precision    recall  f1-score   support\n",
      "\n",
      "           0       0.98      0.86      0.91        50\n",
      "           1       0.92      0.99      0.95        82\n",
      "\n",
      "    accuracy                           0.94       132\n",
      "   macro avg       0.95      0.92      0.93       132\n",
      "weighted avg       0.94      0.94      0.94       132\n",
      "\n"
     ]
    }
   ],
   "source": [
    "print(classification_report(y_pred, y_true))"
   ]
  },
  {
   "cell_type": "code",
   "execution_count": 119,
   "metadata": {
    "colab": {
     "base_uri": "https://localhost:8080/"
    },
    "id": "VoH89wKHdkW0",
    "outputId": "ebe0bd39-31ff-425d-f0b9-8cede29d45cb"
   },
   "outputs": [
    {
     "data": {
      "text/plain": [
       "0.9393939393939394"
      ]
     },
     "execution_count": 119,
     "metadata": {},
     "output_type": "execute_result"
    }
   ],
   "source": [
    "from sklearn.metrics import accuracy_score\n",
    "accuracy_score(y_pred, y_true)"
   ]
  }
 ],
 "metadata": {
  "accelerator": "GPU",
  "colab": {
   "gpuType": "T4",
   "provenance": [],
   "toc_visible": true
  },
  "kernelspec": {
   "display_name": "Python 3",
   "language": "python",
   "name": "python3"
  },
  "language_info": {
   "codemirror_mode": {
    "name": "ipython",
    "version": 3
   },
   "file_extension": ".py",
   "mimetype": "text/x-python",
   "name": "python",
   "nbconvert_exporter": "python",
   "pygments_lexer": "ipython3",
   "version": "3.7.6"
  }
 },
 "nbformat": 4,
 "nbformat_minor": 1
}
